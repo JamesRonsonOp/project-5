{
  "nbformat": 4,
  "nbformat_minor": 0,
  "metadata": {
    "colab": {
      "name": "Project5-US Accidents.ipynb",
      "provenance": [],
      "collapsed_sections": [],
      "include_colab_link": true
    },
    "kernelspec": {
      "name": "python3",
      "display_name": "Python 3"
    },
    "accelerator": "GPU"
  },
  "cells": [
    {
      "cell_type": "markdown",
      "metadata": {
        "id": "view-in-github",
        "colab_type": "text"
      },
      "source": [
        "<a href=\"https://colab.research.google.com/github/dsi-project5/project-5/blob/master/Project5_US_Accidents.ipynb\" target=\"_parent\"><img src=\"https://colab.research.google.com/assets/colab-badge.svg\" alt=\"Open In Colab\"/></a>"
      ]
    },
    {
      "cell_type": "code",
      "metadata": {
        "id": "-9oDZZ1-UJfr"
      },
      "source": [
        "! pip install -q kaggle"
      ],
      "execution_count": 17,
      "outputs": []
    },
    {
      "cell_type": "code",
      "metadata": {
        "id": "5I4fX7kGUMa8",
        "colab": {
          "resources": {
            "http://localhost:8080/nbextensions/google.colab/files.js": {
              "data": "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",
              "ok": true,
              "headers": [
                [
                  "content-type",
                  "application/javascript"
                ]
              ],
              "status": 200,
              "status_text": ""
            }
          },
          "base_uri": "https://localhost:8080/",
          "height": 90
        },
        "outputId": "78fa06a4-a952-4aa4-ae9a-e38a7803b33f"
      },
      "source": [
        " from google.colab import files\n",
        "files.upload()\n"
      ],
      "execution_count": 18,
      "outputs": [
        {
          "output_type": "display_data",
          "data": {
            "text/html": [
              "\n",
              "     <input type=\"file\" id=\"files-ec45e077-0da0-4750-8051-a4f2367a526a\" name=\"files[]\" multiple disabled\n",
              "        style=\"border:none\" />\n",
              "     <output id=\"result-ec45e077-0da0-4750-8051-a4f2367a526a\">\n",
              "      Upload widget is only available when the cell has been executed in the\n",
              "      current browser session. Please rerun this cell to enable.\n",
              "      </output>\n",
              "      <script src=\"/nbextensions/google.colab/files.js\"></script> "
            ],
            "text/plain": [
              "<IPython.core.display.HTML object>"
            ]
          },
          "metadata": {
            "tags": []
          }
        },
        {
          "output_type": "stream",
          "text": [
            "Saving kaggle-token.json to kaggle-token.json\n"
          ],
          "name": "stdout"
        },
        {
          "output_type": "execute_result",
          "data": {
            "text/plain": [
              "{'kaggle-token.json': b'{\"username\":\"natarajanvijayaraman\",\"key\":\"bab1a081d2ed2f1b6d5cac3a55b9b03d\"}'}"
            ]
          },
          "metadata": {
            "tags": []
          },
          "execution_count": 18
        }
      ]
    },
    {
      "cell_type": "code",
      "metadata": {
        "id": "ihteEfiuUSJN",
        "colab": {
          "base_uri": "https://localhost:8080/"
        },
        "outputId": "1bbe36a1-29eb-4569-f028-05744de96200"
      },
      "source": [
        "! mkdir ~/.kaggle"
      ],
      "execution_count": 19,
      "outputs": [
        {
          "output_type": "stream",
          "text": [
            "mkdir: cannot create directory ‘/root/.kaggle’: File exists\n"
          ],
          "name": "stdout"
        }
      ]
    },
    {
      "cell_type": "code",
      "metadata": {
        "id": "Lhwh6GJCU-8l"
      },
      "source": [
        "! mv kaggle-token.json kaggle.json"
      ],
      "execution_count": 20,
      "outputs": []
    },
    {
      "cell_type": "code",
      "metadata": {
        "id": "Q5XvkcDlV9HW"
      },
      "source": [
        "! cp kaggle.json ~/.kaggle/"
      ],
      "execution_count": 21,
      "outputs": []
    },
    {
      "cell_type": "code",
      "metadata": {
        "id": "zpJhvPsDUaFk"
      },
      "source": [
        "! chmod 600 ~/.kaggle/kaggle.json"
      ],
      "execution_count": 22,
      "outputs": []
    },
    {
      "cell_type": "code",
      "metadata": {
        "id": "ot_v0n-cU-sh",
        "colab": {
          "base_uri": "https://localhost:8080/"
        },
        "outputId": "2a758e08-08b6-41d9-8bc3-194c45147edf"
      },
      "source": [
        "! kaggle datasets list"
      ],
      "execution_count": 23,
      "outputs": [
        {
          "output_type": "stream",
          "text": [
            "Warning: Looks like you're using an outdated API Version, please consider updating (server 1.5.10 / client 1.5.4)\n",
            "ref                                                           title                                                size  lastUpdated          downloadCount  \n",
            "------------------------------------------------------------  --------------------------------------------------  -----  -------------------  -------------  \n",
            "utkarshxy/who-worldhealth-statistics-2020-complete            World Health Statistics 2020|Complete|Geo-Analysis    1MB  2021-01-14 18:29:44           5098  \n",
            "arashnic/covid19-case-surveillance-public-use-dataset         Covid-19 Case Surveillance Public Use Dataset        46MB  2020-12-21 02:24:21           2670  \n",
            "ashkhagan/women-representation-in-city-property-sanfrancisco  Women Representation in City Property SanFrancisco    3KB  2020-12-13 05:18:14            643  \n",
            "google/android-smartphones-high-accuracy-datasets             Android smartphones high accuracy GNSS datasets       1GB  2020-12-23 01:51:11            601  \n",
            "rowhitswami/all-indian-companies-registration-data-1900-2019  Indian Companies Registration Data [1857 - 2020]    112MB  2020-12-12 03:59:01            821  \n",
            "gpreda/covid-world-vaccination-progress                       COVID-19 World Vaccination Progress                  27KB  2021-01-21 21:02:33            383  \n",
            "arashnic/mind-news-dataset                                    MIND: Microsoft News Recommendation Dataset          51MB  2020-12-21 00:22:50            275  \n",
            "tapakah68/segmentation-full-body-mads-dataset                 Segmentation Full Body MADS Dataset                 474MB  2021-01-20 18:43:02              9  \n",
            "cdminix/us-drought-meteorological-data                        US Drought & Meteorological Data                    748MB  2021-01-20 21:48:02             21  \n",
            "sakshigoyal7/credit-card-customers                            Credit Card customers                               379KB  2020-11-19 07:38:44          18656  \n",
            "gpreda/pfizer-vaccine-tweets                                  Pfizer Vaccine Tweets                               682KB  2021-01-21 07:03:52           3054  \n",
            "arashnic/hr-analytics-job-change-of-data-scientists           HR Analytics: Job Change of Data Scientists         295KB  2020-12-07 00:25:10           4349  \n",
            "yamaerenay/spotify-dataset-19212020-160k-tracks               Spotify Dataset 1921-2020, 160k+ Tracks              16MB  2020-11-25 21:14:12          16741  \n",
            "sootersaalu/amazon-top-50-bestselling-books-2009-2019         Amazon Top 50 Bestselling Books 2009 - 2019          15KB  2020-10-13 09:39:21          14362  \n",
            "google/tinyquickdraw                                          QuickDraw Sketches                                   11GB  2018-04-18 19:38:04           2753  \n",
            "datasnaek/youtube-new                                         Trending YouTube Video Statistics                   201MB  2019-06-03 00:56:47         124455  \n",
            "zynicide/wine-reviews                                         Wine Reviews                                         51MB  2017-11-27 17:08:04         126096  \n",
            "datasnaek/chess                                               Chess Game Dataset (Lichess)                          3MB  2017-09-04 03:09:09          13861  \n",
            "nasa/kepler-exoplanet-search-results                          Kepler Exoplanet Search Results                       1MB  2017-10-10 18:26:59           5749  \n",
            "rtatman/188-million-us-wildfires                              1.88 Million US Wildfires                           168MB  2020-05-12 21:03:49          12653  \n"
          ],
          "name": "stdout"
        }
      ]
    },
    {
      "cell_type": "code",
      "metadata": {
        "id": "JrDHIKZnVjjG",
        "colab": {
          "base_uri": "https://localhost:8080/"
        },
        "outputId": "a2810ce7-28d8-4363-9384-505ebf5d643f"
      },
      "source": [
        "! kaggle datasets download -d sobhanmoosavi/us-accidents"
      ],
      "execution_count": 24,
      "outputs": [
        {
          "output_type": "stream",
          "text": [
            "us-accidents.zip: Skipping, found more recently modified local copy (use --force to force download)\n"
          ],
          "name": "stdout"
        }
      ]
    },
    {
      "cell_type": "code",
      "metadata": {
        "id": "kWELm0CsWNYQ",
        "colab": {
          "base_uri": "https://localhost:8080/"
        },
        "outputId": "9c70fea1-d2da-4861-9ed6-3cf317826937"
      },
      "source": [
        "! ls"
      ],
      "execution_count": 1,
      "outputs": [
        {
          "output_type": "stream",
          "text": [
            "drive  kaggle.json  sample_data  US_Accidents_Dec20.csv  us-accidents.zip\n"
          ],
          "name": "stdout"
        }
      ]
    },
    {
      "cell_type": "code",
      "metadata": {
        "id": "KphEpmiBXHlt",
        "colab": {
          "base_uri": "https://localhost:8080/"
        },
        "outputId": "e8b5654e-4c45-4cf5-95ff-541a2432fbfc"
      },
      "source": [
        "! unzip us-accidents.zip "
      ],
      "execution_count": 26,
      "outputs": [
        {
          "output_type": "stream",
          "text": [
            "Archive:  us-accidents.zip\n",
            "replace US_Accidents_Dec20.csv? [y]es, [n]o, [A]ll, [N]one, [r]ename: n\n"
          ],
          "name": "stdout"
        }
      ]
    },
    {
      "cell_type": "code",
      "metadata": {
        "id": "JZ1cE-1saXRg",
        "colab": {
          "base_uri": "https://localhost:8080/"
        },
        "outputId": "8fc6c13f-fede-4490-dc76-cd66eb80a06f"
      },
      "source": [
        "!ls"
      ],
      "execution_count": 27,
      "outputs": [
        {
          "output_type": "stream",
          "text": [
            "drive  kaggle.json  sample_data  US_Accidents_Dec20.csv  us-accidents.zip\n"
          ],
          "name": "stdout"
        }
      ]
    },
    {
      "cell_type": "code",
      "metadata": {
        "id": "IcclE3TXlYUq",
        "colab": {
          "base_uri": "https://localhost:8080/"
        },
        "outputId": "04252946-faa6-4341-866f-f7e408475c7a"
      },
      "source": [
        "from google.colab import drive\n",
        "drive.mount('/content/drive')"
      ],
      "execution_count": 2,
      "outputs": [
        {
          "output_type": "stream",
          "text": [
            "Drive already mounted at /content/drive; to attempt to forcibly remount, call drive.mount(\"/content/drive\", force_remount=True).\n"
          ],
          "name": "stdout"
        }
      ]
    },
    {
      "cell_type": "code",
      "metadata": {
        "id": "pjpQBt7_aOna"
      },
      "source": [
        "import pandas as pd\n",
        "import numpy as np\n",
        "import matplotlib.pyplot as plt"
      ],
      "execution_count": 3,
      "outputs": []
    },
    {
      "cell_type": "code",
      "metadata": {
        "id": "2MftxVPUYiAu"
      },
      "source": [
        "# Load data from csv\n",
        "accidents_df = pd.read_csv('US_Accidents_Dec20.csv')"
      ],
      "execution_count": 4,
      "outputs": []
    },
    {
      "cell_type": "code",
      "metadata": {
        "colab": {
          "base_uri": "https://localhost:8080/",
          "height": 518
        },
        "id": "3sxRz5YSYwfb",
        "outputId": "cbe8ffcc-ce92-4fad-9372-7278fa1ce82e"
      },
      "source": [
        " # Check the dataframe\r\n",
        "accidents_df.head()"
      ],
      "execution_count": 5,
      "outputs": [
        {
          "output_type": "execute_result",
          "data": {
            "text/html": [
              "<div>\n",
              "<style scoped>\n",
              "    .dataframe tbody tr th:only-of-type {\n",
              "        vertical-align: middle;\n",
              "    }\n",
              "\n",
              "    .dataframe tbody tr th {\n",
              "        vertical-align: top;\n",
              "    }\n",
              "\n",
              "    .dataframe thead th {\n",
              "        text-align: right;\n",
              "    }\n",
              "</style>\n",
              "<table border=\"1\" class=\"dataframe\">\n",
              "  <thead>\n",
              "    <tr style=\"text-align: right;\">\n",
              "      <th></th>\n",
              "      <th>ID</th>\n",
              "      <th>Source</th>\n",
              "      <th>TMC</th>\n",
              "      <th>Severity</th>\n",
              "      <th>Start_Time</th>\n",
              "      <th>End_Time</th>\n",
              "      <th>Start_Lat</th>\n",
              "      <th>Start_Lng</th>\n",
              "      <th>End_Lat</th>\n",
              "      <th>End_Lng</th>\n",
              "      <th>Distance(mi)</th>\n",
              "      <th>Description</th>\n",
              "      <th>Number</th>\n",
              "      <th>Street</th>\n",
              "      <th>Side</th>\n",
              "      <th>City</th>\n",
              "      <th>County</th>\n",
              "      <th>State</th>\n",
              "      <th>Zipcode</th>\n",
              "      <th>Country</th>\n",
              "      <th>Timezone</th>\n",
              "      <th>Airport_Code</th>\n",
              "      <th>Weather_Timestamp</th>\n",
              "      <th>Temperature(F)</th>\n",
              "      <th>Wind_Chill(F)</th>\n",
              "      <th>Humidity(%)</th>\n",
              "      <th>Pressure(in)</th>\n",
              "      <th>Visibility(mi)</th>\n",
              "      <th>Wind_Direction</th>\n",
              "      <th>Wind_Speed(mph)</th>\n",
              "      <th>Precipitation(in)</th>\n",
              "      <th>Weather_Condition</th>\n",
              "      <th>Amenity</th>\n",
              "      <th>Bump</th>\n",
              "      <th>Crossing</th>\n",
              "      <th>Give_Way</th>\n",
              "      <th>Junction</th>\n",
              "      <th>No_Exit</th>\n",
              "      <th>Railway</th>\n",
              "      <th>Roundabout</th>\n",
              "      <th>Station</th>\n",
              "      <th>Stop</th>\n",
              "      <th>Traffic_Calming</th>\n",
              "      <th>Traffic_Signal</th>\n",
              "      <th>Turning_Loop</th>\n",
              "      <th>Sunrise_Sunset</th>\n",
              "      <th>Civil_Twilight</th>\n",
              "      <th>Nautical_Twilight</th>\n",
              "      <th>Astronomical_Twilight</th>\n",
              "    </tr>\n",
              "  </thead>\n",
              "  <tbody>\n",
              "    <tr>\n",
              "      <th>0</th>\n",
              "      <td>A-1</td>\n",
              "      <td>MapQuest</td>\n",
              "      <td>201.0</td>\n",
              "      <td>3</td>\n",
              "      <td>2016-02-08 05:46:00</td>\n",
              "      <td>2016-02-08 11:00:00</td>\n",
              "      <td>39.865147</td>\n",
              "      <td>-84.058723</td>\n",
              "      <td>NaN</td>\n",
              "      <td>NaN</td>\n",
              "      <td>0.01</td>\n",
              "      <td>Right lane blocked due to accident on I-70 Eas...</td>\n",
              "      <td>NaN</td>\n",
              "      <td>I-70 E</td>\n",
              "      <td>R</td>\n",
              "      <td>Dayton</td>\n",
              "      <td>Montgomery</td>\n",
              "      <td>OH</td>\n",
              "      <td>45424</td>\n",
              "      <td>US</td>\n",
              "      <td>US/Eastern</td>\n",
              "      <td>KFFO</td>\n",
              "      <td>2016-02-08 05:58:00</td>\n",
              "      <td>36.9</td>\n",
              "      <td>NaN</td>\n",
              "      <td>91.0</td>\n",
              "      <td>29.68</td>\n",
              "      <td>10.0</td>\n",
              "      <td>Calm</td>\n",
              "      <td>NaN</td>\n",
              "      <td>0.02</td>\n",
              "      <td>Light Rain</td>\n",
              "      <td>False</td>\n",
              "      <td>False</td>\n",
              "      <td>False</td>\n",
              "      <td>False</td>\n",
              "      <td>False</td>\n",
              "      <td>False</td>\n",
              "      <td>False</td>\n",
              "      <td>False</td>\n",
              "      <td>False</td>\n",
              "      <td>False</td>\n",
              "      <td>False</td>\n",
              "      <td>False</td>\n",
              "      <td>False</td>\n",
              "      <td>Night</td>\n",
              "      <td>Night</td>\n",
              "      <td>Night</td>\n",
              "      <td>Night</td>\n",
              "    </tr>\n",
              "    <tr>\n",
              "      <th>1</th>\n",
              "      <td>A-2</td>\n",
              "      <td>MapQuest</td>\n",
              "      <td>201.0</td>\n",
              "      <td>2</td>\n",
              "      <td>2016-02-08 06:07:59</td>\n",
              "      <td>2016-02-08 06:37:59</td>\n",
              "      <td>39.928059</td>\n",
              "      <td>-82.831184</td>\n",
              "      <td>NaN</td>\n",
              "      <td>NaN</td>\n",
              "      <td>0.01</td>\n",
              "      <td>Accident on Brice Rd at Tussing Rd. Expect del...</td>\n",
              "      <td>2584.0</td>\n",
              "      <td>Brice Rd</td>\n",
              "      <td>L</td>\n",
              "      <td>Reynoldsburg</td>\n",
              "      <td>Franklin</td>\n",
              "      <td>OH</td>\n",
              "      <td>43068-3402</td>\n",
              "      <td>US</td>\n",
              "      <td>US/Eastern</td>\n",
              "      <td>KCMH</td>\n",
              "      <td>2016-02-08 05:51:00</td>\n",
              "      <td>37.9</td>\n",
              "      <td>NaN</td>\n",
              "      <td>100.0</td>\n",
              "      <td>29.65</td>\n",
              "      <td>10.0</td>\n",
              "      <td>Calm</td>\n",
              "      <td>NaN</td>\n",
              "      <td>0.00</td>\n",
              "      <td>Light Rain</td>\n",
              "      <td>False</td>\n",
              "      <td>False</td>\n",
              "      <td>False</td>\n",
              "      <td>False</td>\n",
              "      <td>False</td>\n",
              "      <td>False</td>\n",
              "      <td>False</td>\n",
              "      <td>False</td>\n",
              "      <td>False</td>\n",
              "      <td>False</td>\n",
              "      <td>False</td>\n",
              "      <td>False</td>\n",
              "      <td>False</td>\n",
              "      <td>Night</td>\n",
              "      <td>Night</td>\n",
              "      <td>Night</td>\n",
              "      <td>Day</td>\n",
              "    </tr>\n",
              "    <tr>\n",
              "      <th>2</th>\n",
              "      <td>A-3</td>\n",
              "      <td>MapQuest</td>\n",
              "      <td>201.0</td>\n",
              "      <td>2</td>\n",
              "      <td>2016-02-08 06:49:27</td>\n",
              "      <td>2016-02-08 07:19:27</td>\n",
              "      <td>39.063148</td>\n",
              "      <td>-84.032608</td>\n",
              "      <td>NaN</td>\n",
              "      <td>NaN</td>\n",
              "      <td>0.01</td>\n",
              "      <td>Accident on OH-32 State Route 32 Westbound at ...</td>\n",
              "      <td>NaN</td>\n",
              "      <td>State Route 32</td>\n",
              "      <td>R</td>\n",
              "      <td>Williamsburg</td>\n",
              "      <td>Clermont</td>\n",
              "      <td>OH</td>\n",
              "      <td>45176</td>\n",
              "      <td>US</td>\n",
              "      <td>US/Eastern</td>\n",
              "      <td>KI69</td>\n",
              "      <td>2016-02-08 06:56:00</td>\n",
              "      <td>36.0</td>\n",
              "      <td>33.3</td>\n",
              "      <td>100.0</td>\n",
              "      <td>29.67</td>\n",
              "      <td>10.0</td>\n",
              "      <td>SW</td>\n",
              "      <td>3.5</td>\n",
              "      <td>NaN</td>\n",
              "      <td>Overcast</td>\n",
              "      <td>False</td>\n",
              "      <td>False</td>\n",
              "      <td>False</td>\n",
              "      <td>False</td>\n",
              "      <td>False</td>\n",
              "      <td>False</td>\n",
              "      <td>False</td>\n",
              "      <td>False</td>\n",
              "      <td>False</td>\n",
              "      <td>False</td>\n",
              "      <td>False</td>\n",
              "      <td>True</td>\n",
              "      <td>False</td>\n",
              "      <td>Night</td>\n",
              "      <td>Night</td>\n",
              "      <td>Day</td>\n",
              "      <td>Day</td>\n",
              "    </tr>\n",
              "    <tr>\n",
              "      <th>3</th>\n",
              "      <td>A-4</td>\n",
              "      <td>MapQuest</td>\n",
              "      <td>201.0</td>\n",
              "      <td>3</td>\n",
              "      <td>2016-02-08 07:23:34</td>\n",
              "      <td>2016-02-08 07:53:34</td>\n",
              "      <td>39.747753</td>\n",
              "      <td>-84.205582</td>\n",
              "      <td>NaN</td>\n",
              "      <td>NaN</td>\n",
              "      <td>0.01</td>\n",
              "      <td>Accident on I-75 Southbound at Exits 52 52B US...</td>\n",
              "      <td>NaN</td>\n",
              "      <td>I-75 S</td>\n",
              "      <td>R</td>\n",
              "      <td>Dayton</td>\n",
              "      <td>Montgomery</td>\n",
              "      <td>OH</td>\n",
              "      <td>45417</td>\n",
              "      <td>US</td>\n",
              "      <td>US/Eastern</td>\n",
              "      <td>KDAY</td>\n",
              "      <td>2016-02-08 07:38:00</td>\n",
              "      <td>35.1</td>\n",
              "      <td>31.0</td>\n",
              "      <td>96.0</td>\n",
              "      <td>29.64</td>\n",
              "      <td>9.0</td>\n",
              "      <td>SW</td>\n",
              "      <td>4.6</td>\n",
              "      <td>NaN</td>\n",
              "      <td>Mostly Cloudy</td>\n",
              "      <td>False</td>\n",
              "      <td>False</td>\n",
              "      <td>False</td>\n",
              "      <td>False</td>\n",
              "      <td>False</td>\n",
              "      <td>False</td>\n",
              "      <td>False</td>\n",
              "      <td>False</td>\n",
              "      <td>False</td>\n",
              "      <td>False</td>\n",
              "      <td>False</td>\n",
              "      <td>False</td>\n",
              "      <td>False</td>\n",
              "      <td>Night</td>\n",
              "      <td>Day</td>\n",
              "      <td>Day</td>\n",
              "      <td>Day</td>\n",
              "    </tr>\n",
              "    <tr>\n",
              "      <th>4</th>\n",
              "      <td>A-5</td>\n",
              "      <td>MapQuest</td>\n",
              "      <td>201.0</td>\n",
              "      <td>2</td>\n",
              "      <td>2016-02-08 07:39:07</td>\n",
              "      <td>2016-02-08 08:09:07</td>\n",
              "      <td>39.627781</td>\n",
              "      <td>-84.188354</td>\n",
              "      <td>NaN</td>\n",
              "      <td>NaN</td>\n",
              "      <td>0.01</td>\n",
              "      <td>Accident on McEwen Rd at OH-725 Miamisburg Cen...</td>\n",
              "      <td>NaN</td>\n",
              "      <td>Miamisburg Centerville Rd</td>\n",
              "      <td>R</td>\n",
              "      <td>Dayton</td>\n",
              "      <td>Montgomery</td>\n",
              "      <td>OH</td>\n",
              "      <td>45459</td>\n",
              "      <td>US</td>\n",
              "      <td>US/Eastern</td>\n",
              "      <td>KMGY</td>\n",
              "      <td>2016-02-08 07:53:00</td>\n",
              "      <td>36.0</td>\n",
              "      <td>33.3</td>\n",
              "      <td>89.0</td>\n",
              "      <td>29.65</td>\n",
              "      <td>6.0</td>\n",
              "      <td>SW</td>\n",
              "      <td>3.5</td>\n",
              "      <td>NaN</td>\n",
              "      <td>Mostly Cloudy</td>\n",
              "      <td>False</td>\n",
              "      <td>False</td>\n",
              "      <td>False</td>\n",
              "      <td>False</td>\n",
              "      <td>False</td>\n",
              "      <td>False</td>\n",
              "      <td>False</td>\n",
              "      <td>False</td>\n",
              "      <td>False</td>\n",
              "      <td>False</td>\n",
              "      <td>False</td>\n",
              "      <td>True</td>\n",
              "      <td>False</td>\n",
              "      <td>Day</td>\n",
              "      <td>Day</td>\n",
              "      <td>Day</td>\n",
              "      <td>Day</td>\n",
              "    </tr>\n",
              "  </tbody>\n",
              "</table>\n",
              "</div>"
            ],
            "text/plain": [
              "    ID    Source    TMC  ...  Civil_Twilight Nautical_Twilight Astronomical_Twilight\n",
              "0  A-1  MapQuest  201.0  ...           Night             Night                 Night\n",
              "1  A-2  MapQuest  201.0  ...           Night             Night                   Day\n",
              "2  A-3  MapQuest  201.0  ...           Night               Day                   Day\n",
              "3  A-4  MapQuest  201.0  ...             Day               Day                   Day\n",
              "4  A-5  MapQuest  201.0  ...             Day               Day                   Day\n",
              "\n",
              "[5 rows x 49 columns]"
            ]
          },
          "metadata": {
            "tags": []
          },
          "execution_count": 5
        }
      ]
    },
    {
      "cell_type": "code",
      "metadata": {
        "id": "DnOkWJrhb1tK",
        "colab": {
          "base_uri": "https://localhost:8080/"
        },
        "outputId": "bb8fcf2f-037d-4047-c477-60a9950afd43"
      },
      "source": [
        "# Columns and data types\r\n",
        "accidents_df.info()"
      ],
      "execution_count": 6,
      "outputs": [
        {
          "output_type": "stream",
          "text": [
            "<class 'pandas.core.frame.DataFrame'>\n",
            "RangeIndex: 4229394 entries, 0 to 4229393\n",
            "Data columns (total 49 columns):\n",
            " #   Column                 Dtype  \n",
            "---  ------                 -----  \n",
            " 0   ID                     object \n",
            " 1   Source                 object \n",
            " 2   TMC                    float64\n",
            " 3   Severity               int64  \n",
            " 4   Start_Time             object \n",
            " 5   End_Time               object \n",
            " 6   Start_Lat              float64\n",
            " 7   Start_Lng              float64\n",
            " 8   End_Lat                float64\n",
            " 9   End_Lng                float64\n",
            " 10  Distance(mi)           float64\n",
            " 11  Description            object \n",
            " 12  Number                 float64\n",
            " 13  Street                 object \n",
            " 14  Side                   object \n",
            " 15  City                   object \n",
            " 16  County                 object \n",
            " 17  State                  object \n",
            " 18  Zipcode                object \n",
            " 19  Country                object \n",
            " 20  Timezone               object \n",
            " 21  Airport_Code           object \n",
            " 22  Weather_Timestamp      object \n",
            " 23  Temperature(F)         float64\n",
            " 24  Wind_Chill(F)          float64\n",
            " 25  Humidity(%)            float64\n",
            " 26  Pressure(in)           float64\n",
            " 27  Visibility(mi)         float64\n",
            " 28  Wind_Direction         object \n",
            " 29  Wind_Speed(mph)        float64\n",
            " 30  Precipitation(in)      float64\n",
            " 31  Weather_Condition      object \n",
            " 32  Amenity                bool   \n",
            " 33  Bump                   bool   \n",
            " 34  Crossing               bool   \n",
            " 35  Give_Way               bool   \n",
            " 36  Junction               bool   \n",
            " 37  No_Exit                bool   \n",
            " 38  Railway                bool   \n",
            " 39  Roundabout             bool   \n",
            " 40  Station                bool   \n",
            " 41  Stop                   bool   \n",
            " 42  Traffic_Calming        bool   \n",
            " 43  Traffic_Signal         bool   \n",
            " 44  Turning_Loop           bool   \n",
            " 45  Sunrise_Sunset         object \n",
            " 46  Civil_Twilight         object \n",
            " 47  Nautical_Twilight      object \n",
            " 48  Astronomical_Twilight  object \n",
            "dtypes: bool(13), float64(14), int64(1), object(21)\n",
            "memory usage: 1.2+ GB\n"
          ],
          "name": "stdout"
        }
      ]
    },
    {
      "cell_type": "code",
      "metadata": {
        "colab": {
          "base_uri": "https://localhost:8080/",
          "height": 304
        },
        "id": "wBOS9lHWTS4P",
        "outputId": "3c4eff81-ef67-471e-e1d1-e7949945957f"
      },
      "source": [
        "# Describe the data\r\n",
        "accidents_df.describe()"
      ],
      "execution_count": 7,
      "outputs": [
        {
          "output_type": "execute_result",
          "data": {
            "text/html": [
              "<div>\n",
              "<style scoped>\n",
              "    .dataframe tbody tr th:only-of-type {\n",
              "        vertical-align: middle;\n",
              "    }\n",
              "\n",
              "    .dataframe tbody tr th {\n",
              "        vertical-align: top;\n",
              "    }\n",
              "\n",
              "    .dataframe thead th {\n",
              "        text-align: right;\n",
              "    }\n",
              "</style>\n",
              "<table border=\"1\" class=\"dataframe\">\n",
              "  <thead>\n",
              "    <tr style=\"text-align: right;\">\n",
              "      <th></th>\n",
              "      <th>TMC</th>\n",
              "      <th>Severity</th>\n",
              "      <th>Start_Lat</th>\n",
              "      <th>Start_Lng</th>\n",
              "      <th>End_Lat</th>\n",
              "      <th>End_Lng</th>\n",
              "      <th>Distance(mi)</th>\n",
              "      <th>Number</th>\n",
              "      <th>Temperature(F)</th>\n",
              "      <th>Wind_Chill(F)</th>\n",
              "      <th>Humidity(%)</th>\n",
              "      <th>Pressure(in)</th>\n",
              "      <th>Visibility(mi)</th>\n",
              "      <th>Wind_Speed(mph)</th>\n",
              "      <th>Precipitation(in)</th>\n",
              "    </tr>\n",
              "  </thead>\n",
              "  <tbody>\n",
              "    <tr>\n",
              "      <th>count</th>\n",
              "      <td>2.716477e+06</td>\n",
              "      <td>4.229394e+06</td>\n",
              "      <td>4.229394e+06</td>\n",
              "      <td>4.229394e+06</td>\n",
              "      <td>1.512917e+06</td>\n",
              "      <td>1.512917e+06</td>\n",
              "      <td>4.229394e+06</td>\n",
              "      <td>1.543203e+06</td>\n",
              "      <td>4.139611e+06</td>\n",
              "      <td>2.333523e+06</td>\n",
              "      <td>4.134048e+06</td>\n",
              "      <td>4.153106e+06</td>\n",
              "      <td>4.130837e+06</td>\n",
              "      <td>3.750182e+06</td>\n",
              "      <td>2.163992e+06</td>\n",
              "    </tr>\n",
              "    <tr>\n",
              "      <th>mean</th>\n",
              "      <td>2.083517e+02</td>\n",
              "      <td>2.305236e+00</td>\n",
              "      <td>3.639841e+01</td>\n",
              "      <td>-9.546515e+01</td>\n",
              "      <td>3.690330e+01</td>\n",
              "      <td>-9.860820e+01</td>\n",
              "      <td>3.353485e-01</td>\n",
              "      <td>6.139651e+03</td>\n",
              "      <td>6.148234e+01</td>\n",
              "      <td>5.489414e+01</td>\n",
              "      <td>6.567190e+01</td>\n",
              "      <td>2.969388e+01</td>\n",
              "      <td>9.112037e+00</td>\n",
              "      <td>7.904503e+00</td>\n",
              "      <td>1.246012e-02</td>\n",
              "    </tr>\n",
              "    <tr>\n",
              "      <th>std</th>\n",
              "      <td>2.124413e+01</td>\n",
              "      <td>5.333263e-01</td>\n",
              "      <td>4.963930e+00</td>\n",
              "      <td>1.735298e+01</td>\n",
              "      <td>5.164553e+00</td>\n",
              "      <td>1.849664e+01</td>\n",
              "      <td>1.601457e+00</td>\n",
              "      <td>1.491765e+04</td>\n",
              "      <td>1.852592e+01</td>\n",
              "      <td>2.272745e+01</td>\n",
              "      <td>2.272347e+01</td>\n",
              "      <td>8.638412e-01</td>\n",
              "      <td>2.817529e+00</td>\n",
              "      <td>5.330603e+00</td>\n",
              "      <td>1.638251e-01</td>\n",
              "    </tr>\n",
              "    <tr>\n",
              "      <th>min</th>\n",
              "      <td>2.000000e+02</td>\n",
              "      <td>1.000000e+00</td>\n",
              "      <td>2.455527e+01</td>\n",
              "      <td>-1.246238e+02</td>\n",
              "      <td>2.457011e+01</td>\n",
              "      <td>-1.244978e+02</td>\n",
              "      <td>0.000000e+00</td>\n",
              "      <td>0.000000e+00</td>\n",
              "      <td>-8.900000e+01</td>\n",
              "      <td>-8.900000e+01</td>\n",
              "      <td>1.000000e+00</td>\n",
              "      <td>0.000000e+00</td>\n",
              "      <td>0.000000e+00</td>\n",
              "      <td>0.000000e+00</td>\n",
              "      <td>0.000000e+00</td>\n",
              "    </tr>\n",
              "    <tr>\n",
              "      <th>25%</th>\n",
              "      <td>2.010000e+02</td>\n",
              "      <td>2.000000e+00</td>\n",
              "      <td>3.352079e+01</td>\n",
              "      <td>-1.173571e+02</td>\n",
              "      <td>3.385431e+01</td>\n",
              "      <td>-1.182087e+02</td>\n",
              "      <td>0.000000e+00</td>\n",
              "      <td>8.980000e+02</td>\n",
              "      <td>4.900000e+01</td>\n",
              "      <td>3.800000e+01</td>\n",
              "      <td>4.900000e+01</td>\n",
              "      <td>2.964000e+01</td>\n",
              "      <td>1.000000e+01</td>\n",
              "      <td>4.600000e+00</td>\n",
              "      <td>0.000000e+00</td>\n",
              "    </tr>\n",
              "    <tr>\n",
              "      <th>50%</th>\n",
              "      <td>2.010000e+02</td>\n",
              "      <td>2.000000e+00</td>\n",
              "      <td>3.582550e+01</td>\n",
              "      <td>-9.002164e+01</td>\n",
              "      <td>3.735409e+01</td>\n",
              "      <td>-9.440530e+01</td>\n",
              "      <td>0.000000e+00</td>\n",
              "      <td>2.889000e+03</td>\n",
              "      <td>6.300000e+01</td>\n",
              "      <td>5.800000e+01</td>\n",
              "      <td>6.800000e+01</td>\n",
              "      <td>2.993000e+01</td>\n",
              "      <td>1.000000e+01</td>\n",
              "      <td>7.000000e+00</td>\n",
              "      <td>0.000000e+00</td>\n",
              "    </tr>\n",
              "    <tr>\n",
              "      <th>75%</th>\n",
              "      <td>2.010000e+02</td>\n",
              "      <td>3.000000e+00</td>\n",
              "      <td>4.018360e+01</td>\n",
              "      <td>-8.084707e+01</td>\n",
              "      <td>4.072622e+01</td>\n",
              "      <td>-8.087582e+01</td>\n",
              "      <td>8.800000e-02</td>\n",
              "      <td>7.327000e+03</td>\n",
              "      <td>7.520000e+01</td>\n",
              "      <td>7.300000e+01</td>\n",
              "      <td>8.500000e+01</td>\n",
              "      <td>3.008000e+01</td>\n",
              "      <td>1.000000e+01</td>\n",
              "      <td>1.040000e+01</td>\n",
              "      <td>0.000000e+00</td>\n",
              "    </tr>\n",
              "    <tr>\n",
              "      <th>max</th>\n",
              "      <td>4.060000e+02</td>\n",
              "      <td>4.000000e+00</td>\n",
              "      <td>4.900220e+01</td>\n",
              "      <td>-6.711317e+01</td>\n",
              "      <td>4.907500e+01</td>\n",
              "      <td>-6.710924e+01</td>\n",
              "      <td>4.417500e+02</td>\n",
              "      <td>9.999997e+06</td>\n",
              "      <td>2.030000e+02</td>\n",
              "      <td>1.890000e+02</td>\n",
              "      <td>1.000000e+02</td>\n",
              "      <td>5.804000e+01</td>\n",
              "      <td>1.400000e+02</td>\n",
              "      <td>9.840000e+02</td>\n",
              "      <td>2.500000e+01</td>\n",
              "    </tr>\n",
              "  </tbody>\n",
              "</table>\n",
              "</div>"
            ],
            "text/plain": [
              "                TMC      Severity  ...  Wind_Speed(mph)  Precipitation(in)\n",
              "count  2.716477e+06  4.229394e+06  ...     3.750182e+06       2.163992e+06\n",
              "mean   2.083517e+02  2.305236e+00  ...     7.904503e+00       1.246012e-02\n",
              "std    2.124413e+01  5.333263e-01  ...     5.330603e+00       1.638251e-01\n",
              "min    2.000000e+02  1.000000e+00  ...     0.000000e+00       0.000000e+00\n",
              "25%    2.010000e+02  2.000000e+00  ...     4.600000e+00       0.000000e+00\n",
              "50%    2.010000e+02  2.000000e+00  ...     7.000000e+00       0.000000e+00\n",
              "75%    2.010000e+02  3.000000e+00  ...     1.040000e+01       0.000000e+00\n",
              "max    4.060000e+02  4.000000e+00  ...     9.840000e+02       2.500000e+01\n",
              "\n",
              "[8 rows x 15 columns]"
            ]
          },
          "metadata": {
            "tags": []
          },
          "execution_count": 7
        }
      ]
    },
    {
      "cell_type": "code",
      "metadata": {
        "id": "mWtZU1afTom9",
        "colab": {
          "base_uri": "https://localhost:8080/"
        },
        "outputId": "6a09ccf7-0af5-425b-cc01-0de5318d4622"
      },
      "source": [
        "# Check for NULL values\n",
        "accidents_df.isnull().sum()"
      ],
      "execution_count": 8,
      "outputs": [
        {
          "output_type": "execute_result",
          "data": {
            "text/plain": [
              "ID                             0\n",
              "Source                         0\n",
              "TMC                      1512917\n",
              "Severity                       0\n",
              "Start_Time                     0\n",
              "End_Time                       0\n",
              "Start_Lat                      0\n",
              "Start_Lng                      0\n",
              "End_Lat                  2716477\n",
              "End_Lng                  2716477\n",
              "Distance(mi)                   0\n",
              "Description                    2\n",
              "Number                   2686191\n",
              "Street                         0\n",
              "Side                           0\n",
              "City                         137\n",
              "County                         0\n",
              "State                          0\n",
              "Zipcode                     1291\n",
              "Country                        0\n",
              "Timezone                    4609\n",
              "Airport_Code                8961\n",
              "Weather_Timestamp          62553\n",
              "Temperature(F)             89783\n",
              "Wind_Chill(F)            1895871\n",
              "Humidity(%)                95346\n",
              "Pressure(in)               76288\n",
              "Visibility(mi)             98557\n",
              "Wind_Direction             83496\n",
              "Wind_Speed(mph)           479212\n",
              "Precipitation(in)        2065402\n",
              "Weather_Condition          98282\n",
              "Amenity                        0\n",
              "Bump                           0\n",
              "Crossing                       0\n",
              "Give_Way                       0\n",
              "Junction                       0\n",
              "No_Exit                        0\n",
              "Railway                        0\n",
              "Roundabout                     0\n",
              "Station                        0\n",
              "Stop                           0\n",
              "Traffic_Calming                0\n",
              "Traffic_Signal                 0\n",
              "Turning_Loop                   0\n",
              "Sunrise_Sunset               141\n",
              "Civil_Twilight               141\n",
              "Nautical_Twilight            141\n",
              "Astronomical_Twilight        141\n",
              "dtype: int64"
            ]
          },
          "metadata": {
            "tags": []
          },
          "execution_count": 8
        }
      ]
    },
    {
      "cell_type": "code",
      "metadata": {
        "colab": {
          "base_uri": "https://localhost:8080/"
        },
        "id": "LFe3AkjcU6wr",
        "outputId": "9ff63d50-9e24-42d8-e5fb-657806034db6"
      },
      "source": [
        "# Check frequent values for TMC to fill for NULL\n",
        "accidents_df['TMC'].value_counts()"
      ],
      "execution_count": 9,
      "outputs": [
        {
          "output_type": "execute_result",
          "data": {
            "text/plain": [
              "201.0    2264385\n",
              "241.0     284371\n",
              "245.0      51670\n",
              "229.0      23171\n",
              "203.0      18536\n",
              "222.0      13611\n",
              "244.0      13101\n",
              "406.0      12815\n",
              "246.0       9019\n",
              "343.0       8073\n",
              "202.0       6483\n",
              "247.0       4806\n",
              "236.0       2123\n",
              "206.0       1370\n",
              "248.0       1025\n",
              "339.0       1020\n",
              "341.0        674\n",
              "336.0         98\n",
              "200.0         66\n",
              "239.0         54\n",
              "351.0          6\n",
              "Name: TMC, dtype: int64"
            ]
          },
          "metadata": {
            "tags": []
          },
          "execution_count": 9
        }
      ]
    },
    {
      "cell_type": "markdown",
      "metadata": {
        "id": "p0_Db0fCWaN4"
      },
      "source": [
        ""
      ]
    },
    {
      "cell_type": "code",
      "metadata": {
        "id": "NMn_ZLH7XgG6"
      },
      "source": [
        "accidents_df['TMC'].fillna(201.0, inplace=True)"
      ],
      "execution_count": 10,
      "outputs": []
    },
    {
      "cell_type": "code",
      "metadata": {
        "colab": {
          "base_uri": "https://localhost:8080/"
        },
        "id": "lfeHcvPQYGOp",
        "outputId": "e7733d3f-9a3f-4cb6-9f32-f1c00665fa55"
      },
      "source": [
        "accidents_df['TMC'].value_counts()"
      ],
      "execution_count": 11,
      "outputs": [
        {
          "output_type": "execute_result",
          "data": {
            "text/plain": [
              "201.0    3777302\n",
              "241.0     284371\n",
              "245.0      51670\n",
              "229.0      23171\n",
              "203.0      18536\n",
              "222.0      13611\n",
              "244.0      13101\n",
              "406.0      12815\n",
              "246.0       9019\n",
              "343.0       8073\n",
              "202.0       6483\n",
              "247.0       4806\n",
              "236.0       2123\n",
              "206.0       1370\n",
              "248.0       1025\n",
              "339.0       1020\n",
              "341.0        674\n",
              "336.0         98\n",
              "200.0         66\n",
              "239.0         54\n",
              "351.0          6\n",
              "Name: TMC, dtype: int64"
            ]
          },
          "metadata": {
            "tags": []
          },
          "execution_count": 11
        }
      ]
    },
    {
      "cell_type": "code",
      "metadata": {
        "colab": {
          "base_uri": "https://localhost:8080/"
        },
        "id": "YzWhn_7NYMHR",
        "outputId": "b58f5483-9a69-48c6-9fae-d3a30dadc5e3"
      },
      "source": [
        "accidents_df['TMC'].isnull().sum()"
      ],
      "execution_count": 12,
      "outputs": [
        {
          "output_type": "execute_result",
          "data": {
            "text/plain": [
              "0"
            ]
          },
          "metadata": {
            "tags": []
          },
          "execution_count": 12
        }
      ]
    },
    {
      "cell_type": "code",
      "metadata": {
        "id": "_meqoIYmYJt5"
      },
      "source": [
        "# Too many NULLs for End_Lat and End_Lng, so drop them. We can get most details using Start_Lat and Start_Lng anyway\n",
        "accidents_df.drop(columns=['End_Lat', 'End_Lng'], inplace=True)"
      ],
      "execution_count": 13,
      "outputs": []
    },
    {
      "cell_type": "code",
      "metadata": {
        "colab": {
          "base_uri": "https://localhost:8080/"
        },
        "id": "uew3LPWsYjd_",
        "outputId": "9c780cee-93ca-4b1d-fff4-856a0e780a05"
      },
      "source": [
        "accidents_df.info()"
      ],
      "execution_count": 14,
      "outputs": [
        {
          "output_type": "stream",
          "text": [
            "<class 'pandas.core.frame.DataFrame'>\n",
            "RangeIndex: 4229394 entries, 0 to 4229393\n",
            "Data columns (total 47 columns):\n",
            " #   Column                 Dtype  \n",
            "---  ------                 -----  \n",
            " 0   ID                     object \n",
            " 1   Source                 object \n",
            " 2   TMC                    float64\n",
            " 3   Severity               int64  \n",
            " 4   Start_Time             object \n",
            " 5   End_Time               object \n",
            " 6   Start_Lat              float64\n",
            " 7   Start_Lng              float64\n",
            " 8   Distance(mi)           float64\n",
            " 9   Description            object \n",
            " 10  Number                 float64\n",
            " 11  Street                 object \n",
            " 12  Side                   object \n",
            " 13  City                   object \n",
            " 14  County                 object \n",
            " 15  State                  object \n",
            " 16  Zipcode                object \n",
            " 17  Country                object \n",
            " 18  Timezone               object \n",
            " 19  Airport_Code           object \n",
            " 20  Weather_Timestamp      object \n",
            " 21  Temperature(F)         float64\n",
            " 22  Wind_Chill(F)          float64\n",
            " 23  Humidity(%)            float64\n",
            " 24  Pressure(in)           float64\n",
            " 25  Visibility(mi)         float64\n",
            " 26  Wind_Direction         object \n",
            " 27  Wind_Speed(mph)        float64\n",
            " 28  Precipitation(in)      float64\n",
            " 29  Weather_Condition      object \n",
            " 30  Amenity                bool   \n",
            " 31  Bump                   bool   \n",
            " 32  Crossing               bool   \n",
            " 33  Give_Way               bool   \n",
            " 34  Junction               bool   \n",
            " 35  No_Exit                bool   \n",
            " 36  Railway                bool   \n",
            " 37  Roundabout             bool   \n",
            " 38  Station                bool   \n",
            " 39  Stop                   bool   \n",
            " 40  Traffic_Calming        bool   \n",
            " 41  Traffic_Signal         bool   \n",
            " 42  Turning_Loop           bool   \n",
            " 43  Sunrise_Sunset         object \n",
            " 44  Civil_Twilight         object \n",
            " 45  Nautical_Twilight      object \n",
            " 46  Astronomical_Twilight  object \n",
            "dtypes: bool(13), float64(12), int64(1), object(21)\n",
            "memory usage: 1.1+ GB\n"
          ],
          "name": "stdout"
        }
      ]
    },
    {
      "cell_type": "code",
      "metadata": {
        "id": "TN_xk0iRYqB0"
      },
      "source": [
        "# Drop all address related columns as we can derive it from Lat and Lng fields\n",
        "accidents_df.drop(columns=['Number', 'Street', 'City', 'County', 'State', 'Zipcode', 'Country'], inplace=True)"
      ],
      "execution_count": 15,
      "outputs": []
    },
    {
      "cell_type": "code",
      "metadata": {
        "id": "yuVk4U_DZeNt"
      },
      "source": [
        "# Drop Timezone as we won't be using it in our model and not needed for any EDA as well. Again, we could derive most of it using Lat/Lng\n",
        "# Similarly, drop Airport_Code as well as it'll be multi-collinear with lat/lng. \n",
        "accidents_df.drop(columns=['Timezone', 'Airport_Code'], inplace=True)"
      ],
      "execution_count": 16,
      "outputs": []
    },
    {
      "cell_type": "code",
      "metadata": {
        "colab": {
          "base_uri": "https://localhost:8080/",
          "height": 343
        },
        "id": "Xcm6adRJafpZ",
        "outputId": "a2a58f1b-c454-4914-e1a1-1a030f40e067"
      },
      "source": [
        "accidents_df.loc[:,['Weather_Timestamp', 'Start_Time', 'End_Time']].head(10)"
      ],
      "execution_count": 17,
      "outputs": [
        {
          "output_type": "execute_result",
          "data": {
            "text/html": [
              "<div>\n",
              "<style scoped>\n",
              "    .dataframe tbody tr th:only-of-type {\n",
              "        vertical-align: middle;\n",
              "    }\n",
              "\n",
              "    .dataframe tbody tr th {\n",
              "        vertical-align: top;\n",
              "    }\n",
              "\n",
              "    .dataframe thead th {\n",
              "        text-align: right;\n",
              "    }\n",
              "</style>\n",
              "<table border=\"1\" class=\"dataframe\">\n",
              "  <thead>\n",
              "    <tr style=\"text-align: right;\">\n",
              "      <th></th>\n",
              "      <th>Weather_Timestamp</th>\n",
              "      <th>Start_Time</th>\n",
              "      <th>End_Time</th>\n",
              "    </tr>\n",
              "  </thead>\n",
              "  <tbody>\n",
              "    <tr>\n",
              "      <th>0</th>\n",
              "      <td>2016-02-08 05:58:00</td>\n",
              "      <td>2016-02-08 05:46:00</td>\n",
              "      <td>2016-02-08 11:00:00</td>\n",
              "    </tr>\n",
              "    <tr>\n",
              "      <th>1</th>\n",
              "      <td>2016-02-08 05:51:00</td>\n",
              "      <td>2016-02-08 06:07:59</td>\n",
              "      <td>2016-02-08 06:37:59</td>\n",
              "    </tr>\n",
              "    <tr>\n",
              "      <th>2</th>\n",
              "      <td>2016-02-08 06:56:00</td>\n",
              "      <td>2016-02-08 06:49:27</td>\n",
              "      <td>2016-02-08 07:19:27</td>\n",
              "    </tr>\n",
              "    <tr>\n",
              "      <th>3</th>\n",
              "      <td>2016-02-08 07:38:00</td>\n",
              "      <td>2016-02-08 07:23:34</td>\n",
              "      <td>2016-02-08 07:53:34</td>\n",
              "    </tr>\n",
              "    <tr>\n",
              "      <th>4</th>\n",
              "      <td>2016-02-08 07:53:00</td>\n",
              "      <td>2016-02-08 07:39:07</td>\n",
              "      <td>2016-02-08 08:09:07</td>\n",
              "    </tr>\n",
              "    <tr>\n",
              "      <th>5</th>\n",
              "      <td>2016-02-08 07:51:00</td>\n",
              "      <td>2016-02-08 07:44:26</td>\n",
              "      <td>2016-02-08 08:14:26</td>\n",
              "    </tr>\n",
              "    <tr>\n",
              "      <th>6</th>\n",
              "      <td>2016-02-08 07:56:00</td>\n",
              "      <td>2016-02-08 07:59:35</td>\n",
              "      <td>2016-02-08 08:29:35</td>\n",
              "    </tr>\n",
              "    <tr>\n",
              "      <th>7</th>\n",
              "      <td>2016-02-08 07:56:00</td>\n",
              "      <td>2016-02-08 07:59:58</td>\n",
              "      <td>2016-02-08 08:29:58</td>\n",
              "    </tr>\n",
              "    <tr>\n",
              "      <th>8</th>\n",
              "      <td>2016-02-08 07:58:00</td>\n",
              "      <td>2016-02-08 08:00:40</td>\n",
              "      <td>2016-02-08 08:30:40</td>\n",
              "    </tr>\n",
              "    <tr>\n",
              "      <th>9</th>\n",
              "      <td>2016-02-08 08:28:00</td>\n",
              "      <td>2016-02-08 08:10:04</td>\n",
              "      <td>2016-02-08 08:40:04</td>\n",
              "    </tr>\n",
              "  </tbody>\n",
              "</table>\n",
              "</div>"
            ],
            "text/plain": [
              "     Weather_Timestamp           Start_Time             End_Time\n",
              "0  2016-02-08 05:58:00  2016-02-08 05:46:00  2016-02-08 11:00:00\n",
              "1  2016-02-08 05:51:00  2016-02-08 06:07:59  2016-02-08 06:37:59\n",
              "2  2016-02-08 06:56:00  2016-02-08 06:49:27  2016-02-08 07:19:27\n",
              "3  2016-02-08 07:38:00  2016-02-08 07:23:34  2016-02-08 07:53:34\n",
              "4  2016-02-08 07:53:00  2016-02-08 07:39:07  2016-02-08 08:09:07\n",
              "5  2016-02-08 07:51:00  2016-02-08 07:44:26  2016-02-08 08:14:26\n",
              "6  2016-02-08 07:56:00  2016-02-08 07:59:35  2016-02-08 08:29:35\n",
              "7  2016-02-08 07:56:00  2016-02-08 07:59:58  2016-02-08 08:29:58\n",
              "8  2016-02-08 07:58:00  2016-02-08 08:00:40  2016-02-08 08:30:40\n",
              "9  2016-02-08 08:28:00  2016-02-08 08:10:04  2016-02-08 08:40:04"
            ]
          },
          "metadata": {
            "tags": []
          },
          "execution_count": 17
        }
      ]
    },
    {
      "cell_type": "code",
      "metadata": {
        "colab": {
          "base_uri": "https://localhost:8080/",
          "height": 67
        },
        "id": "u2qW2-wjbuUA",
        "outputId": "9edff71e-521d-48ec-f349-c1b8814c95c8"
      },
      "source": [
        "# Check if any Weather_Timestamp is outside of Start_Time and End_Time\n",
        "accidents_df[(accidents_df['Weather_Timestamp'] < accidents_df['Start_Time']) & (accidents_df['Weather_Timestamp'] > accidents_df['End_Time'])]"
      ],
      "execution_count": 18,
      "outputs": [
        {
          "output_type": "execute_result",
          "data": {
            "text/html": [
              "<div>\n",
              "<style scoped>\n",
              "    .dataframe tbody tr th:only-of-type {\n",
              "        vertical-align: middle;\n",
              "    }\n",
              "\n",
              "    .dataframe tbody tr th {\n",
              "        vertical-align: top;\n",
              "    }\n",
              "\n",
              "    .dataframe thead th {\n",
              "        text-align: right;\n",
              "    }\n",
              "</style>\n",
              "<table border=\"1\" class=\"dataframe\">\n",
              "  <thead>\n",
              "    <tr style=\"text-align: right;\">\n",
              "      <th></th>\n",
              "      <th>ID</th>\n",
              "      <th>Source</th>\n",
              "      <th>TMC</th>\n",
              "      <th>Severity</th>\n",
              "      <th>Start_Time</th>\n",
              "      <th>End_Time</th>\n",
              "      <th>Start_Lat</th>\n",
              "      <th>Start_Lng</th>\n",
              "      <th>Distance(mi)</th>\n",
              "      <th>Description</th>\n",
              "      <th>Side</th>\n",
              "      <th>Weather_Timestamp</th>\n",
              "      <th>Temperature(F)</th>\n",
              "      <th>Wind_Chill(F)</th>\n",
              "      <th>Humidity(%)</th>\n",
              "      <th>Pressure(in)</th>\n",
              "      <th>Visibility(mi)</th>\n",
              "      <th>Wind_Direction</th>\n",
              "      <th>Wind_Speed(mph)</th>\n",
              "      <th>Precipitation(in)</th>\n",
              "      <th>Weather_Condition</th>\n",
              "      <th>Amenity</th>\n",
              "      <th>Bump</th>\n",
              "      <th>Crossing</th>\n",
              "      <th>Give_Way</th>\n",
              "      <th>Junction</th>\n",
              "      <th>No_Exit</th>\n",
              "      <th>Railway</th>\n",
              "      <th>Roundabout</th>\n",
              "      <th>Station</th>\n",
              "      <th>Stop</th>\n",
              "      <th>Traffic_Calming</th>\n",
              "      <th>Traffic_Signal</th>\n",
              "      <th>Turning_Loop</th>\n",
              "      <th>Sunrise_Sunset</th>\n",
              "      <th>Civil_Twilight</th>\n",
              "      <th>Nautical_Twilight</th>\n",
              "      <th>Astronomical_Twilight</th>\n",
              "    </tr>\n",
              "  </thead>\n",
              "  <tbody>\n",
              "  </tbody>\n",
              "</table>\n",
              "</div>"
            ],
            "text/plain": [
              "Empty DataFrame\n",
              "Columns: [ID, Source, TMC, Severity, Start_Time, End_Time, Start_Lat, Start_Lng, Distance(mi), Description, Side, Weather_Timestamp, Temperature(F), Wind_Chill(F), Humidity(%), Pressure(in), Visibility(mi), Wind_Direction, Wind_Speed(mph), Precipitation(in), Weather_Condition, Amenity, Bump, Crossing, Give_Way, Junction, No_Exit, Railway, Roundabout, Station, Stop, Traffic_Calming, Traffic_Signal, Turning_Loop, Sunrise_Sunset, Civil_Twilight, Nautical_Twilight, Astronomical_Twilight]\n",
              "Index: []"
            ]
          },
          "metadata": {
            "tags": []
          },
          "execution_count": 18
        }
      ]
    },
    {
      "cell_type": "code",
      "metadata": {
        "id": "HR4hOm1laqtI"
      },
      "source": [
        "# Based on the above, Weather_Timestamp is **always** between Start_Time and End_Time so we can safely drop it\n",
        "accidents_df.drop(columns=['Weather_Timestamp'], inplace=True)"
      ],
      "execution_count": 19,
      "outputs": []
    },
    {
      "cell_type": "code",
      "metadata": {
        "colab": {
          "base_uri": "https://localhost:8080/"
        },
        "id": "e5js_oE7bts6",
        "outputId": "25f7e52e-2924-4a73-ff9c-d3970ada0d36"
      },
      "source": [
        "accidents_df['Temperature(F)'].value_counts()"
      ],
      "execution_count": 20,
      "outputs": [
        {
          "output_type": "execute_result",
          "data": {
            "text/plain": [
              " 68.0     91496\n",
              " 77.0     90001\n",
              " 59.0     86294\n",
              " 73.0     84159\n",
              " 63.0     80015\n",
              "          ...  \n",
              "-23.4         1\n",
              " 168.8        1\n",
              " 127.0        1\n",
              " 140.0        1\n",
              "-32.8         1\n",
              "Name: Temperature(F), Length: 840, dtype: int64"
            ]
          },
          "metadata": {
            "tags": []
          },
          "execution_count": 20
        }
      ]
    },
    {
      "cell_type": "code",
      "metadata": {
        "colab": {
          "base_uri": "https://localhost:8080/"
        },
        "id": "S37ajXpudlPQ",
        "outputId": "6878e269-e888-4767-b99a-68a0f6d1d8de"
      },
      "source": [
        "accidents_df['Temperature(F)'].describe()"
      ],
      "execution_count": 21,
      "outputs": [
        {
          "output_type": "execute_result",
          "data": {
            "text/plain": [
              "count    4.139611e+06\n",
              "mean     6.148234e+01\n",
              "std      1.852592e+01\n",
              "min     -8.900000e+01\n",
              "25%      4.900000e+01\n",
              "50%      6.300000e+01\n",
              "75%      7.520000e+01\n",
              "max      2.030000e+02\n",
              "Name: Temperature(F), dtype: float64"
            ]
          },
          "metadata": {
            "tags": []
          },
          "execution_count": 21
        }
      ]
    },
    {
      "cell_type": "code",
      "metadata": {
        "colab": {
          "base_uri": "https://localhost:8080/",
          "height": 265
        },
        "id": "72fAyhCOdpZB",
        "outputId": "33c8e968-7700-4e5f-a80c-6d915742e450"
      },
      "source": [
        "accidents_df['Temperature(F)'].plot(kind='box');"
      ],
      "execution_count": 22,
      "outputs": [
        {
          "output_type": "display_data",
          "data": {
            "image/png": "[encoded data removed]",
            "text/plain": [
              "<Figure size 432x288 with 1 Axes>"
            ]
          },
          "metadata": {
            "tags": [],
            "needs_background": "light"
          }
        }
      ]
    },
    {
      "cell_type": "code",
      "metadata": {
        "colab": {
          "base_uri": "https://localhost:8080/"
        },
        "id": "GzLgjJKueDZu",
        "outputId": "b11ca149-2447-4db0-b00b-cb4c83e06abe"
      },
      "source": [
        "# Find out mean and median of Temperature so we can fill it for NULL values\n",
        "print(accidents_df['Temperature(F)'].mean())\n",
        "print(accidents_df['Temperature(F)'].median())"
      ],
      "execution_count": 23,
      "outputs": [
        {
          "output_type": "stream",
          "text": [
            "61.4823393550751\n",
            "63.0\n"
          ],
          "name": "stdout"
        }
      ]
    },
    {
      "cell_type": "code",
      "metadata": {
        "id": "-LIi3jfIfCxQ"
      },
      "source": [
        "# Fill the median value for NULL values\n",
        "accidents_df['Temperature(F)'].fillna(accidents_df['Temperature(F)'].median(), inplace=True)"
      ],
      "execution_count": 24,
      "outputs": []
    },
    {
      "cell_type": "code",
      "metadata": {
        "colab": {
          "base_uri": "https://localhost:8080/"
        },
        "id": "yKfwwNiAfjHk",
        "outputId": "5af648e6-98b1-43e2-8f1c-f8d3ef820894"
      },
      "source": [
        "accidents_df['Wind_Chill(F)'].value_counts()"
      ],
      "execution_count": 25,
      "outputs": [
        {
          "output_type": "execute_result",
          "data": {
            "text/plain": [
              " 73.0     47731\n",
              " 63.0     46737\n",
              " 64.0     45719\n",
              " 72.0     44168\n",
              " 75.0     43894\n",
              "          ...  \n",
              "-52.1         1\n",
              "-44.4         1\n",
              "-40.6         1\n",
              "-29.4         1\n",
              " 127.0        1\n",
              "Name: Wind_Chill(F), Length: 984, dtype: int64"
            ]
          },
          "metadata": {
            "tags": []
          },
          "execution_count": 25
        }
      ]
    },
    {
      "cell_type": "code",
      "metadata": {
        "colab": {
          "base_uri": "https://localhost:8080/"
        },
        "id": "j6yNJKabfsfX",
        "outputId": "b6096e00-e284-4620-efba-49d3831092bb"
      },
      "source": [
        "accidents_df['Wind_Chill(F)'].describe()"
      ],
      "execution_count": 26,
      "outputs": [
        {
          "output_type": "execute_result",
          "data": {
            "text/plain": [
              "count    2.333523e+06\n",
              "mean     5.489414e+01\n",
              "std      2.272745e+01\n",
              "min     -8.900000e+01\n",
              "25%      3.800000e+01\n",
              "50%      5.800000e+01\n",
              "75%      7.300000e+01\n",
              "max      1.890000e+02\n",
              "Name: Wind_Chill(F), dtype: float64"
            ]
          },
          "metadata": {
            "tags": []
          },
          "execution_count": 26
        }
      ]
    },
    {
      "cell_type": "code",
      "metadata": {
        "colab": {
          "base_uri": "https://localhost:8080/"
        },
        "id": "BE5YBf1nfxQ5",
        "outputId": "4fb9e4c0-cca4-4500-bb0c-b4c43df95b56"
      },
      "source": [
        "# Since Wind Chill is associated with Wind_Speed and Wind_Direction, lets check those values\n",
        "accidents_df['Wind_Direction'].value_counts()"
      ],
      "execution_count": 27,
      "outputs": [
        {
          "output_type": "execute_result",
          "data": {
            "text/plain": [
              "CALM        377976\n",
              "Calm        368269\n",
              "SSW         208937\n",
              "WNW         204047\n",
              "SW          197598\n",
              "NW          197594\n",
              "SSE         193071\n",
              "WSW         190865\n",
              "NNW         178909\n",
              "South       177228\n",
              "West        164619\n",
              "SE          157153\n",
              "North       153256\n",
              "S           150915\n",
              "NE          144269\n",
              "NNE         143663\n",
              "ENE         142142\n",
              "ESE         140335\n",
              "W           135499\n",
              "Variable    113896\n",
              "N           112962\n",
              "East        103459\n",
              "E           101485\n",
              "VAR          87751\n",
              "Name: Wind_Direction, dtype: int64"
            ]
          },
          "metadata": {
            "tags": []
          },
          "execution_count": 27
        }
      ]
    },
    {
      "cell_type": "code",
      "metadata": {
        "id": "a16gK686iukI"
      },
      "source": [
        "# Based on the values of Wind_Direction, i don't think it'll be useful for our analysis. So, dropping that field completely.\n",
        "#accidents_df.drop(columns=['Wind_Direction'], inplace=True)"
      ],
      "execution_count": 28,
      "outputs": []
    },
    {
      "cell_type": "code",
      "metadata": {
        "colab": {
          "base_uri": "https://localhost:8080/"
        },
        "id": "XvKyqtzJgSfz",
        "outputId": "d1bf01cb-464e-419b-cf82-5ccf889b37d4"
      },
      "source": [
        "accidents_df['Wind_Speed(mph)'].value_counts()"
      ],
      "execution_count": 29,
      "outputs": [
        {
          "output_type": "execute_result",
          "data": {
            "text/plain": [
              "0.0      377984\n",
              "4.6      217441\n",
              "5.8      215966\n",
              "3.5      203421\n",
              "6.9      201261\n",
              "          ...  \n",
              "141.5         1\n",
              "471.8         1\n",
              "157.0         1\n",
              "54.0          1\n",
              "77.1          1\n",
              "Name: Wind_Speed(mph), Length: 162, dtype: int64"
            ]
          },
          "metadata": {
            "tags": []
          },
          "execution_count": 29
        }
      ]
    },
    {
      "cell_type": "code",
      "metadata": {
        "colab": {
          "base_uri": "https://localhost:8080/"
        },
        "id": "tfqv79YIgef9",
        "outputId": "58470865-50e8-4bc7-fd52-2b0ab7dd8dd2"
      },
      "source": [
        "accidents_df['Wind_Speed(mph)'].describe()"
      ],
      "execution_count": 30,
      "outputs": [
        {
          "output_type": "execute_result",
          "data": {
            "text/plain": [
              "count    3.750182e+06\n",
              "mean     7.904503e+00\n",
              "std      5.330603e+00\n",
              "min      0.000000e+00\n",
              "25%      4.600000e+00\n",
              "50%      7.000000e+00\n",
              "75%      1.040000e+01\n",
              "max      9.840000e+02\n",
              "Name: Wind_Speed(mph), dtype: float64"
            ]
          },
          "metadata": {
            "tags": []
          },
          "execution_count": 30
        }
      ]
    },
    {
      "cell_type": "code",
      "metadata": {
        "id": "_HIHlzpUgmI8",
        "colab": {
          "base_uri": "https://localhost:8080/",
          "height": 491
        },
        "outputId": "a18bed69-31d4-4cd7-97e6-571a8c6ef631"
      },
      "source": [
        "# Normally, temp, wind chill and wind speed are related in that wind chill is (temp - x*wind_speed) where x is simply 1 or some factor of it\n",
        "# Lets check values here\n",
        "accidents_df.loc[:,['Temperature(F)', 'Wind_Speed(mph)', 'Wind_Chill(F)']].head(15)"
      ],
      "execution_count": 31,
      "outputs": [
        {
          "output_type": "execute_result",
          "data": {
            "text/html": [
              "<div>\n",
              "<style scoped>\n",
              "    .dataframe tbody tr th:only-of-type {\n",
              "        vertical-align: middle;\n",
              "    }\n",
              "\n",
              "    .dataframe tbody tr th {\n",
              "        vertical-align: top;\n",
              "    }\n",
              "\n",
              "    .dataframe thead th {\n",
              "        text-align: right;\n",
              "    }\n",
              "</style>\n",
              "<table border=\"1\" class=\"dataframe\">\n",
              "  <thead>\n",
              "    <tr style=\"text-align: right;\">\n",
              "      <th></th>\n",
              "      <th>Temperature(F)</th>\n",
              "      <th>Wind_Speed(mph)</th>\n",
              "      <th>Wind_Chill(F)</th>\n",
              "    </tr>\n",
              "  </thead>\n",
              "  <tbody>\n",
              "    <tr>\n",
              "      <th>0</th>\n",
              "      <td>36.9</td>\n",
              "      <td>NaN</td>\n",
              "      <td>NaN</td>\n",
              "    </tr>\n",
              "    <tr>\n",
              "      <th>1</th>\n",
              "      <td>37.9</td>\n",
              "      <td>NaN</td>\n",
              "      <td>NaN</td>\n",
              "    </tr>\n",
              "    <tr>\n",
              "      <th>2</th>\n",
              "      <td>36.0</td>\n",
              "      <td>3.5</td>\n",
              "      <td>33.3</td>\n",
              "    </tr>\n",
              "    <tr>\n",
              "      <th>3</th>\n",
              "      <td>35.1</td>\n",
              "      <td>4.6</td>\n",
              "      <td>31.0</td>\n",
              "    </tr>\n",
              "    <tr>\n",
              "      <th>4</th>\n",
              "      <td>36.0</td>\n",
              "      <td>3.5</td>\n",
              "      <td>33.3</td>\n",
              "    </tr>\n",
              "    <tr>\n",
              "      <th>5</th>\n",
              "      <td>37.9</td>\n",
              "      <td>3.5</td>\n",
              "      <td>35.5</td>\n",
              "    </tr>\n",
              "    <tr>\n",
              "      <th>6</th>\n",
              "      <td>34.0</td>\n",
              "      <td>3.5</td>\n",
              "      <td>31.0</td>\n",
              "    </tr>\n",
              "    <tr>\n",
              "      <th>7</th>\n",
              "      <td>34.0</td>\n",
              "      <td>3.5</td>\n",
              "      <td>31.0</td>\n",
              "    </tr>\n",
              "    <tr>\n",
              "      <th>8</th>\n",
              "      <td>33.3</td>\n",
              "      <td>1.2</td>\n",
              "      <td>NaN</td>\n",
              "    </tr>\n",
              "    <tr>\n",
              "      <th>9</th>\n",
              "      <td>37.4</td>\n",
              "      <td>4.6</td>\n",
              "      <td>33.8</td>\n",
              "    </tr>\n",
              "    <tr>\n",
              "      <th>10</th>\n",
              "      <td>35.6</td>\n",
              "      <td>5.8</td>\n",
              "      <td>30.7</td>\n",
              "    </tr>\n",
              "    <tr>\n",
              "      <th>11</th>\n",
              "      <td>37.4</td>\n",
              "      <td>4.6</td>\n",
              "      <td>33.8</td>\n",
              "    </tr>\n",
              "    <tr>\n",
              "      <th>12</th>\n",
              "      <td>33.8</td>\n",
              "      <td>2.3</td>\n",
              "      <td>NaN</td>\n",
              "    </tr>\n",
              "    <tr>\n",
              "      <th>13</th>\n",
              "      <td>36.0</td>\n",
              "      <td>5.8</td>\n",
              "      <td>31.1</td>\n",
              "    </tr>\n",
              "    <tr>\n",
              "      <th>14</th>\n",
              "      <td>37.4</td>\n",
              "      <td>4.6</td>\n",
              "      <td>33.8</td>\n",
              "    </tr>\n",
              "  </tbody>\n",
              "</table>\n",
              "</div>"
            ],
            "text/plain": [
              "    Temperature(F)  Wind_Speed(mph)  Wind_Chill(F)\n",
              "0             36.9              NaN            NaN\n",
              "1             37.9              NaN            NaN\n",
              "2             36.0              3.5           33.3\n",
              "3             35.1              4.6           31.0\n",
              "4             36.0              3.5           33.3\n",
              "5             37.9              3.5           35.5\n",
              "6             34.0              3.5           31.0\n",
              "7             34.0              3.5           31.0\n",
              "8             33.3              1.2            NaN\n",
              "9             37.4              4.6           33.8\n",
              "10            35.6              5.8           30.7\n",
              "11            37.4              4.6           33.8\n",
              "12            33.8              2.3            NaN\n",
              "13            36.0              5.8           31.1\n",
              "14            37.4              4.6           33.8"
            ]
          },
          "metadata": {
            "tags": []
          },
          "execution_count": 31
        }
      ]
    },
    {
      "cell_type": "code",
      "metadata": {
        "id": "aE1ImsRzisXJ"
      },
      "source": [
        "# Above results confirms that theory. We can go ahead and calculate Wind_Chill(F) based on Wind_Speed(mph)\n",
        "# If both Wind_Chill(F) and Wind_Speed(mph) are NULL, then we can use the Temperatur(F) instead assuming there is NO wind\n",
        "# Finally, Wind_Speed(mph) is already part of Wind_Chill(F), we can drop that column.\n",
        "# You could argue that Wind_Chill and Temp has linear relationship as they both mostly has similar values \n",
        "# but thats not always the case. So, we'll keep both of them and check for multi-collinearity when evaluating the model.\n",
        "\n",
        "# First fill Wind_Chill using Wind_Speed where Wind_Chill = Temp-WindSpeed\n",
        "accidents_df['Wind_Chill(F)'] = accidents_df.apply(lambda row: row['Temperature(F)'] - row['Wind_Speed(mph)'] if np.isnan(row['Wind_Chill(F)']) else row['Wind_Chill(F)'], axis=1)\n"
      ],
      "execution_count": 32,
      "outputs": []
    },
    {
      "cell_type": "code",
      "metadata": {
        "id": "baDwsgT7qZ9V"
      },
      "source": [
        "# Now, we're left with rows where wind_speed is also NULL. Fill in with temperature values\n",
        "accidents_df['Wind_Chill(F)'] = accidents_df.apply(lambda row: row['Temperature(F)'] if np.isnan(row['Wind_Chill(F)']) else row['Wind_Chill(F)'], axis=1)"
      ],
      "execution_count": 33,
      "outputs": []
    },
    {
      "cell_type": "code",
      "metadata": {
        "id": "IO5lbkYMrFfy"
      },
      "source": [
        "# Drop Wind_Speed column as its captured in Wind_Chill already\n",
        "accidents_df.drop(columns=['Wind_Speed(mph)'], inplace=True)"
      ],
      "execution_count": 34,
      "outputs": []
    },
    {
      "cell_type": "code",
      "metadata": {
        "colab": {
          "base_uri": "https://localhost:8080/"
        },
        "id": "nglXhQu3n6qq",
        "outputId": "1516bf85-dd8e-4c0d-e97d-46fef62e0e5f"
      },
      "source": [
        "# We filled most NULLs. Lets check where we stand now\n",
        "accidents_df.isnull().sum()"
      ],
      "execution_count": 35,
      "outputs": [
        {
          "output_type": "execute_result",
          "data": {
            "text/plain": [
              "ID                             0\n",
              "Source                         0\n",
              "TMC                            0\n",
              "Severity                       0\n",
              "Start_Time                     0\n",
              "End_Time                       0\n",
              "Start_Lat                      0\n",
              "Start_Lng                      0\n",
              "Distance(mi)                   0\n",
              "Description                    2\n",
              "Side                           0\n",
              "Temperature(F)                 0\n",
              "Wind_Chill(F)                  0\n",
              "Humidity(%)                95346\n",
              "Pressure(in)               76288\n",
              "Visibility(mi)             98557\n",
              "Wind_Direction             83496\n",
              "Precipitation(in)        2065402\n",
              "Weather_Condition          98282\n",
              "Amenity                        0\n",
              "Bump                           0\n",
              "Crossing                       0\n",
              "Give_Way                       0\n",
              "Junction                       0\n",
              "No_Exit                        0\n",
              "Railway                        0\n",
              "Roundabout                     0\n",
              "Station                        0\n",
              "Stop                           0\n",
              "Traffic_Calming                0\n",
              "Traffic_Signal                 0\n",
              "Turning_Loop                   0\n",
              "Sunrise_Sunset               141\n",
              "Civil_Twilight               141\n",
              "Nautical_Twilight            141\n",
              "Astronomical_Twilight        141\n",
              "dtype: int64"
            ]
          },
          "metadata": {
            "tags": []
          },
          "execution_count": 35
        }
      ]
    },
    {
      "cell_type": "code",
      "metadata": {
        "colab": {
          "base_uri": "https://localhost:8080/"
        },
        "id": "eGSKgCU9nv5e",
        "outputId": "622b9cb5-a0c2-42c2-c23c-ae5254b45ead"
      },
      "source": [
        "accidents_df['Humidity(%)'].value_counts()"
      ],
      "execution_count": 36,
      "outputs": [
        {
          "output_type": "execute_result",
          "data": {
            "text/plain": [
              "100.0    170092\n",
              "93.0     164814\n",
              "90.0      97078\n",
              "87.0      95814\n",
              "89.0      81384\n",
              "          ...  \n",
              "5.0        2369\n",
              "4.0        1272\n",
              "3.0         305\n",
              "2.0         100\n",
              "1.0          13\n",
              "Name: Humidity(%), Length: 100, dtype: int64"
            ]
          },
          "metadata": {
            "tags": []
          },
          "execution_count": 36
        }
      ]
    },
    {
      "cell_type": "code",
      "metadata": {
        "colab": {
          "base_uri": "https://localhost:8080/"
        },
        "id": "C9d3aJMPrgia",
        "outputId": "20a96888-f508-4a6c-a6cf-eaf323952a3c"
      },
      "source": [
        "accidents_df['Humidity(%)'].describe()"
      ],
      "execution_count": 37,
      "outputs": [
        {
          "output_type": "execute_result",
          "data": {
            "text/plain": [
              "count    4.134048e+06\n",
              "mean     6.567190e+01\n",
              "std      2.272347e+01\n",
              "min      1.000000e+00\n",
              "25%      4.900000e+01\n",
              "50%      6.800000e+01\n",
              "75%      8.500000e+01\n",
              "max      1.000000e+02\n",
              "Name: Humidity(%), dtype: float64"
            ]
          },
          "metadata": {
            "tags": []
          },
          "execution_count": 37
        }
      ]
    },
    {
      "cell_type": "code",
      "metadata": {
        "colab": {
          "base_uri": "https://localhost:8080/"
        },
        "id": "9vB7QUz9rkhq",
        "outputId": "1ac9462c-d24a-45d2-d199-a0f428e85a38"
      },
      "source": [
        "accidents_df['Weather_Condition'].value_counts()"
      ],
      "execution_count": 38,
      "outputs": [
        {
          "output_type": "execute_result",
          "data": {
            "text/plain": [
              "Fair                         899305\n",
              "Clear                        808181\n",
              "Mostly Cloudy                571419\n",
              "Partly Cloudy                397204\n",
              "Overcast                     382485\n",
              "                              ...  \n",
              "Mist / Windy                      1\n",
              "Sand / Dust Whirls Nearby         1\n",
              "Blowing Sand                      1\n",
              "Partial Fog / Windy               1\n",
              "Dust Whirls                       1\n",
              "Name: Weather_Condition, Length: 131, dtype: int64"
            ]
          },
          "metadata": {
            "tags": []
          },
          "execution_count": 38
        }
      ]
    },
    {
      "cell_type": "code",
      "metadata": {
        "colab": {
          "base_uri": "https://localhost:8080/"
        },
        "id": "5L37FGdBtFvk",
        "outputId": "3b9f75ae-8073-4a99-a7ae-ec08cc5ed524"
      },
      "source": [
        "# Check the weather condition under which we're missing humidity values\n",
        "accidents_df.loc[np.isnan(accidents_df['Humidity(%)']), ['Weather_Condition']].value_counts()"
      ],
      "execution_count": 39,
      "outputs": [
        {
          "output_type": "execute_result",
          "data": {
            "text/plain": [
              "Weather_Condition           \n",
              "Fair                            5630\n",
              "Clear                           3544\n",
              "Mostly Cloudy                   2121\n",
              "Cloudy                          1807\n",
              "Partly Cloudy                   1705\n",
              "Overcast                        1509\n",
              "Light Rain                      1194\n",
              "Scattered Clouds                 786\n",
              "Haze                             637\n",
              "Fog                              557\n",
              "Rain                             463\n",
              "Heavy Rain                       165\n",
              "Light Snow                       150\n",
              "Fair / Windy                     118\n",
              "Light Drizzle                     95\n",
              "Mist                              63\n",
              "Cloudy / Windy                    60\n",
              "N/A Precipitation                 48\n",
              "Snow                              45\n",
              "Smoke                             42\n",
              "Thunder in the Vicinity           37\n",
              "T-Storm                           36\n",
              "Drizzle                           34\n",
              "Thunderstorm                      28\n",
              "Light Rain / Windy                24\n",
              "Light Rain with Thunder           23\n",
              "Thunder                           20\n",
              "Sand                              19\n",
              "Heavy T-Storm                     17\n",
              "Heavy Snow                        16\n",
              "Light Thunderstorms and Rain      16\n",
              "Partly Cloudy / Windy             15\n",
              "Showers in the Vicinity           14\n",
              "Mostly Cloudy / Windy             12\n",
              "Heavy Thunderstorms and Rain      12\n",
              "Thunderstorms and Rain            11\n",
              "Light Freezing Rain               11\n",
              "Rain / Windy                       8\n",
              "Light Rain Shower                  8\n",
              "Heavy Rain / Windy                 7\n",
              "T-Storm / Windy                    4\n",
              "Snow / Windy                       4\n",
              "Shallow Fog                        4\n",
              "Light Snow / Windy                 3\n",
              "Light Freezing Fog                 3\n",
              "Heavy Drizzle                      2\n",
              "Patches of Fog                     2\n",
              "Wintry Mix                         2\n",
              "Light Sleet                        1\n",
              "Rain Shower                        1\n",
              "Funnel Cloud                       1\n",
              "Heavy T-Storm / Windy              1\n",
              "Mist / Windy                       1\n",
              "Volcanic Ash                       1\n",
              "Light Rain Showers                 1\n",
              "Light Thunderstorm                 1\n",
              "Tornado                            1\n",
              "dtype: int64"
            ]
          },
          "metadata": {
            "tags": []
          },
          "execution_count": 39
        }
      ]
    },
    {
      "cell_type": "code",
      "metadata": {
        "id": "F1qGM7M9uQ7N"
      },
      "source": [
        "# There is no easy way to fill Humidity % values. So, for now put it as 100% for all NULLs\n",
        "accidents_df['Humidity(%)'].fillna(100.0, inplace=True)"
      ],
      "execution_count": 40,
      "outputs": []
    },
    {
      "cell_type": "code",
      "metadata": {
        "colab": {
          "base_uri": "https://localhost:8080/"
        },
        "id": "vwaYlAAktef3",
        "outputId": "966b82d5-3dd2-431b-fcee-c4f21f38aed2"
      },
      "source": [
        "accidents_df['Pressure(in)'].value_counts()"
      ],
      "execution_count": 41,
      "outputs": [
        {
          "output_type": "execute_result",
          "data": {
            "text/plain": [
              "29.96    79197\n",
              "30.01    79119\n",
              "29.99    78384\n",
              "29.94    76192\n",
              "30.04    75336\n",
              "         ...  \n",
              "31.06        1\n",
              "31.13        1\n",
              "22.02        1\n",
              "19.96        1\n",
              "0.39         1\n",
              "Name: Pressure(in), Length: 1041, dtype: int64"
            ]
          },
          "metadata": {
            "tags": []
          },
          "execution_count": 41
        }
      ]
    },
    {
      "cell_type": "code",
      "metadata": {
        "colab": {
          "base_uri": "https://localhost:8080/"
        },
        "id": "RFM2HKPwvL2a",
        "outputId": "139924dc-49c6-4543-bc18-0826fc31d7c5"
      },
      "source": [
        "accidents_df['Pressure(in)'].describe()"
      ],
      "execution_count": 42,
      "outputs": [
        {
          "output_type": "execute_result",
          "data": {
            "text/plain": [
              "count    4.153106e+06\n",
              "mean     2.969388e+01\n",
              "std      8.638412e-01\n",
              "min      0.000000e+00\n",
              "25%      2.964000e+01\n",
              "50%      2.993000e+01\n",
              "75%      3.008000e+01\n",
              "max      5.804000e+01\n",
              "Name: Pressure(in), dtype: float64"
            ]
          },
          "metadata": {
            "tags": []
          },
          "execution_count": 42
        }
      ]
    },
    {
      "cell_type": "code",
      "metadata": {
        "colab": {
          "base_uri": "https://localhost:8080/"
        },
        "id": "6YP9v0aIvP4z",
        "outputId": "208811e9-db66-4c1d-b598-0abb2ade543f"
      },
      "source": [
        "print(accidents_df['Pressure(in)'].mean())\n",
        "print(accidents_df['Pressure(in)'].median())"
      ],
      "execution_count": 43,
      "outputs": [
        {
          "output_type": "stream",
          "text": [
            "29.693875725786988\n",
            "29.93\n"
          ],
          "name": "stdout"
        }
      ]
    },
    {
      "cell_type": "code",
      "metadata": {
        "id": "60GAS_f3vYxp"
      },
      "source": [
        "# Fill in Median value for Pressure(in)\n",
        "accidents_df['Pressure(in)'].fillna(accidents_df['Pressure(in)'].median(), inplace=True)"
      ],
      "execution_count": 44,
      "outputs": []
    },
    {
      "cell_type": "code",
      "metadata": {
        "colab": {
          "base_uri": "https://localhost:8080/"
        },
        "id": "8d6RM4_wvpSJ",
        "outputId": "c542f85c-7bce-4d01-f340-acc4cd76e6be"
      },
      "source": [
        "accidents_df['Visibility(mi)'].value_counts()"
      ],
      "execution_count": 45,
      "outputs": [
        {
          "output_type": "execute_result",
          "data": {
            "text/plain": [
              "10.0    3290077\n",
              "7.0      128552\n",
              "9.0      110933\n",
              "8.0       88503\n",
              "5.0       83046\n",
              "         ...   \n",
              "16.0          1\n",
              "54.0          1\n",
              "3.2           1\n",
              "72.0          1\n",
              "58.0          1\n",
              "Name: Visibility(mi), Length: 87, dtype: int64"
            ]
          },
          "metadata": {
            "tags": []
          },
          "execution_count": 45
        }
      ]
    },
    {
      "cell_type": "code",
      "metadata": {
        "colab": {
          "base_uri": "https://localhost:8080/"
        },
        "id": "HFvimPnXvwXl",
        "outputId": "9a6b1c27-04c3-4bf6-af32-ece2001365b0"
      },
      "source": [
        "accidents_df['Visibility(mi)'].describe()"
      ],
      "execution_count": 46,
      "outputs": [
        {
          "output_type": "execute_result",
          "data": {
            "text/plain": [
              "count    4.130837e+06\n",
              "mean     9.112037e+00\n",
              "std      2.817529e+00\n",
              "min      0.000000e+00\n",
              "25%      1.000000e+01\n",
              "50%      1.000000e+01\n",
              "75%      1.000000e+01\n",
              "max      1.400000e+02\n",
              "Name: Visibility(mi), dtype: float64"
            ]
          },
          "metadata": {
            "tags": []
          },
          "execution_count": 46
        }
      ]
    },
    {
      "cell_type": "code",
      "metadata": {
        "colab": {
          "base_uri": "https://localhost:8080/"
        },
        "id": "6WQntZG_v090",
        "outputId": "b063a353-7297-4e97-bcf9-24a2f582b0f4"
      },
      "source": [
        "print(accidents_df['Visibility(mi)'].mean())\n",
        "print(accidents_df['Visibility(mi)'].median())"
      ],
      "execution_count": 47,
      "outputs": [
        {
          "output_type": "stream",
          "text": [
            "9.11203698911402\n",
            "10.0\n"
          ],
          "name": "stdout"
        }
      ]
    },
    {
      "cell_type": "code",
      "metadata": {
        "id": "cK4taMQ_v_uk"
      },
      "source": [
        "# Fill in Median value for Visibility(mi)\n",
        "accidents_df['Visibility(mi)'].fillna(accidents_df['Visibility(mi)'].median(), inplace=True)"
      ],
      "execution_count": 48,
      "outputs": []
    },
    {
      "cell_type": "code",
      "metadata": {
        "colab": {
          "base_uri": "https://localhost:8080/"
        },
        "id": "teE7jW3VwKFl",
        "outputId": "d4f4dfc6-e0cc-404a-a21d-581ff462f75a"
      },
      "source": [
        "accidents_df['Weather_Condition'].value_counts()"
      ],
      "execution_count": 49,
      "outputs": [
        {
          "output_type": "execute_result",
          "data": {
            "text/plain": [
              "Fair                         899305\n",
              "Clear                        808181\n",
              "Mostly Cloudy                571419\n",
              "Partly Cloudy                397204\n",
              "Overcast                     382485\n",
              "                              ...  \n",
              "Mist / Windy                      1\n",
              "Sand / Dust Whirls Nearby         1\n",
              "Blowing Sand                      1\n",
              "Partial Fog / Windy               1\n",
              "Dust Whirls                       1\n",
              "Name: Weather_Condition, Length: 131, dtype: int64"
            ]
          },
          "metadata": {
            "tags": []
          },
          "execution_count": 49
        }
      ]
    },
    {
      "cell_type": "code",
      "metadata": {
        "colab": {
          "base_uri": "https://localhost:8080/"
        },
        "id": "VM0DuxY4wTzk",
        "outputId": "8d9cd15d-8c85-497d-bcea-8cf95bafe5fb"
      },
      "source": [
        "accidents_df['Weather_Condition'].describe()"
      ],
      "execution_count": 50,
      "outputs": [
        {
          "output_type": "execute_result",
          "data": {
            "text/plain": [
              "count     4131112\n",
              "unique        131\n",
              "top          Fair\n",
              "freq       899305\n",
              "Name: Weather_Condition, dtype: object"
            ]
          },
          "metadata": {
            "tags": []
          },
          "execution_count": 50
        }
      ]
    },
    {
      "cell_type": "code",
      "metadata": {
        "id": "QNumxe5LwdvJ"
      },
      "source": [
        "# Fill Fair for All NULL Weather_Condition\n",
        "accidents_df['Weather_Condition'].fillna('Fair', inplace=True)"
      ],
      "execution_count": 51,
      "outputs": []
    },
    {
      "cell_type": "code",
      "metadata": {
        "colab": {
          "base_uri": "https://localhost:8080/"
        },
        "id": "pqXPbIXzwxRI",
        "outputId": "ebaecab0-07f5-4515-c8d3-aeb7b42731ee"
      },
      "source": [
        "accidents_df['Precipitation(in)'].value_counts()"
      ],
      "execution_count": 52,
      "outputs": [
        {
          "output_type": "execute_result",
          "data": {
            "text/plain": [
              "0.00    1873124\n",
              "0.01      82079\n",
              "0.02      40644\n",
              "0.03      27715\n",
              "0.04      20525\n",
              "         ...   \n",
              "2.27          1\n",
              "1.95          1\n",
              "2.02          1\n",
              "2.73          1\n",
              "3.13          1\n",
              "Name: Precipitation(in), Length: 269, dtype: int64"
            ]
          },
          "metadata": {
            "tags": []
          },
          "execution_count": 52
        }
      ]
    },
    {
      "cell_type": "code",
      "metadata": {
        "colab": {
          "base_uri": "https://localhost:8080/"
        },
        "id": "yBCT1Qgvw4V3",
        "outputId": "d9af8332-2910-45df-f4ab-38573cd668f9"
      },
      "source": [
        "# Check if weather condition when percipitation is NULL\n",
        "accidents_df.loc[np.isnan(accidents_df['Precipitation(in)']), ['Weather_Condition']].value_counts().head(15)"
      ],
      "execution_count": 53,
      "outputs": [
        {
          "output_type": "execute_result",
          "data": {
            "text/plain": [
              "Weather_Condition\n",
              "Clear                803333\n",
              "Overcast             327980\n",
              "Mostly Cloudy        299486\n",
              "Partly Cloudy        213163\n",
              "Scattered Clouds     200021\n",
              "Fair                 126109\n",
              "Haze                  27327\n",
              "Light Rain            12820\n",
              "Fog                   12216\n",
              "Cloudy                 8982\n",
              "Light Snow             6568\n",
              "Rain                   5999\n",
              "Smoke                  3429\n",
              "Thunderstorm           3262\n",
              "Light Drizzle          2439\n",
              "dtype: int64"
            ]
          },
          "metadata": {
            "tags": []
          },
          "execution_count": 53
        }
      ]
    },
    {
      "cell_type": "code",
      "metadata": {
        "id": "D-dmkfwO09GX"
      },
      "source": [
        "# Only about 20K records possbily might miss the actual Precipitation measurement. Other records should have 0.\n",
        "accidents_df['Precipitation(in)'].fillna(0.0, inplace=True)"
      ],
      "execution_count": 54,
      "outputs": []
    },
    {
      "cell_type": "code",
      "metadata": {
        "id": "objYcAF01Xmf"
      },
      "source": [
        "# We will not be using description in the modeling. So, lets drop that field\n",
        "accidents_df.drop(columns=['Description'], inplace=True)"
      ],
      "execution_count": 55,
      "outputs": []
    },
    {
      "cell_type": "code",
      "metadata": {
        "colab": {
          "base_uri": "https://localhost:8080/"
        },
        "id": "j0Bi3_Sl1jvj",
        "outputId": "f87355e2-b14a-4cdb-c5b0-e792151a18ee"
      },
      "source": [
        "accidents_df['Sunrise_Sunset'].value_counts()"
      ],
      "execution_count": 56,
      "outputs": [
        {
          "output_type": "execute_result",
          "data": {
            "text/plain": [
              "Day      2924504\n",
              "Night    1304749\n",
              "Name: Sunrise_Sunset, dtype: int64"
            ]
          },
          "metadata": {
            "tags": []
          },
          "execution_count": 56
        }
      ]
    },
    {
      "cell_type": "code",
      "metadata": {
        "colab": {
          "base_uri": "https://localhost:8080/"
        },
        "id": "dNQheCRM1tOV",
        "outputId": "064bb99b-5bc4-4787-8742-9ed7481507d4"
      },
      "source": [
        "accidents_df['Civil_Twilight'].value_counts()"
      ],
      "execution_count": 57,
      "outputs": [
        {
          "output_type": "execute_result",
          "data": {
            "text/plain": [
              "Day      3126621\n",
              "Night    1102632\n",
              "Name: Civil_Twilight, dtype: int64"
            ]
          },
          "metadata": {
            "tags": []
          },
          "execution_count": 57
        }
      ]
    },
    {
      "cell_type": "code",
      "metadata": {
        "colab": {
          "base_uri": "https://localhost:8080/",
          "height": 491
        },
        "id": "P7IqMejm13Az",
        "outputId": "e8f4c382-f5c3-49aa-dd34-fb758ba6fa93"
      },
      "source": [
        "# What time of the day that we're missing values for Sunrise_Sunset related fields...\n",
        "accidents_df.loc[accidents_df['Civil_Twilight'].isnull(), ['Start_Time', 'End_Time']].head(15)"
      ],
      "execution_count": 58,
      "outputs": [
        {
          "output_type": "execute_result",
          "data": {
            "text/html": [
              "<div>\n",
              "<style scoped>\n",
              "    .dataframe tbody tr th:only-of-type {\n",
              "        vertical-align: middle;\n",
              "    }\n",
              "\n",
              "    .dataframe tbody tr th {\n",
              "        vertical-align: top;\n",
              "    }\n",
              "\n",
              "    .dataframe thead th {\n",
              "        text-align: right;\n",
              "    }\n",
              "</style>\n",
              "<table border=\"1\" class=\"dataframe\">\n",
              "  <thead>\n",
              "    <tr style=\"text-align: right;\">\n",
              "      <th></th>\n",
              "      <th>Start_Time</th>\n",
              "      <th>End_Time</th>\n",
              "    </tr>\n",
              "  </thead>\n",
              "  <tbody>\n",
              "    <tr>\n",
              "      <th>85968</th>\n",
              "      <td>2016-08-02 18:18:02</td>\n",
              "      <td>2016-08-02 19:03:02</td>\n",
              "    </tr>\n",
              "    <tr>\n",
              "      <th>111080</th>\n",
              "      <td>2016-06-01 10:26:08</td>\n",
              "      <td>2016-06-01 11:10:00</td>\n",
              "    </tr>\n",
              "    <tr>\n",
              "      <th>119772</th>\n",
              "      <td>2016-12-23 19:30:59</td>\n",
              "      <td>2016-12-23 20:15:41</td>\n",
              "    </tr>\n",
              "    <tr>\n",
              "      <th>122929</th>\n",
              "      <td>2017-01-17 17:34:09</td>\n",
              "      <td>2017-01-17 18:04:09</td>\n",
              "    </tr>\n",
              "    <tr>\n",
              "      <th>123702</th>\n",
              "      <td>2017-01-24 07:30:44</td>\n",
              "      <td>2017-01-24 08:15:29</td>\n",
              "    </tr>\n",
              "    <tr>\n",
              "      <th>125048</th>\n",
              "      <td>2016-10-27 09:13:02</td>\n",
              "      <td>2016-10-27 09:42:51</td>\n",
              "    </tr>\n",
              "    <tr>\n",
              "      <th>126318</th>\n",
              "      <td>2016-11-07 06:53:09</td>\n",
              "      <td>2016-11-07 07:37:43</td>\n",
              "    </tr>\n",
              "    <tr>\n",
              "      <th>126451</th>\n",
              "      <td>2016-11-07 11:40:21</td>\n",
              "      <td>2016-11-07 12:10:06</td>\n",
              "    </tr>\n",
              "    <tr>\n",
              "      <th>127213</th>\n",
              "      <td>2016-11-11 08:55:37</td>\n",
              "      <td>2016-11-11 09:25:14</td>\n",
              "    </tr>\n",
              "    <tr>\n",
              "      <th>132630</th>\n",
              "      <td>2016-09-28 17:25:19</td>\n",
              "      <td>2016-09-28 18:10:19</td>\n",
              "    </tr>\n",
              "    <tr>\n",
              "      <th>135057</th>\n",
              "      <td>2016-10-18 08:54:48</td>\n",
              "      <td>2016-10-18 09:24:36</td>\n",
              "    </tr>\n",
              "    <tr>\n",
              "      <th>138423</th>\n",
              "      <td>2016-08-22 09:42:05</td>\n",
              "      <td>2016-08-22 10:42:05</td>\n",
              "    </tr>\n",
              "    <tr>\n",
              "      <th>141455</th>\n",
              "      <td>2016-06-22 09:46:05</td>\n",
              "      <td>2016-06-22 10:31:05</td>\n",
              "    </tr>\n",
              "    <tr>\n",
              "      <th>145307</th>\n",
              "      <td>2016-07-25 17:58:31</td>\n",
              "      <td>2016-07-25 18:43:31</td>\n",
              "    </tr>\n",
              "    <tr>\n",
              "      <th>240026</th>\n",
              "      <td>2016-11-04 08:16:31</td>\n",
              "      <td>2016-11-04 09:01:02</td>\n",
              "    </tr>\n",
              "  </tbody>\n",
              "</table>\n",
              "</div>"
            ],
            "text/plain": [
              "                 Start_Time             End_Time\n",
              "85968   2016-08-02 18:18:02  2016-08-02 19:03:02\n",
              "111080  2016-06-01 10:26:08  2016-06-01 11:10:00\n",
              "119772  2016-12-23 19:30:59  2016-12-23 20:15:41\n",
              "122929  2017-01-17 17:34:09  2017-01-17 18:04:09\n",
              "123702  2017-01-24 07:30:44  2017-01-24 08:15:29\n",
              "125048  2016-10-27 09:13:02  2016-10-27 09:42:51\n",
              "126318  2016-11-07 06:53:09  2016-11-07 07:37:43\n",
              "126451  2016-11-07 11:40:21  2016-11-07 12:10:06\n",
              "127213  2016-11-11 08:55:37  2016-11-11 09:25:14\n",
              "132630  2016-09-28 17:25:19  2016-09-28 18:10:19\n",
              "135057  2016-10-18 08:54:48  2016-10-18 09:24:36\n",
              "138423  2016-08-22 09:42:05  2016-08-22 10:42:05\n",
              "141455  2016-06-22 09:46:05  2016-06-22 10:31:05\n",
              "145307  2016-07-25 17:58:31  2016-07-25 18:43:31\n",
              "240026  2016-11-04 08:16:31  2016-11-04 09:01:02"
            ]
          },
          "metadata": {
            "tags": []
          },
          "execution_count": 58
        }
      ]
    },
    {
      "cell_type": "code",
      "metadata": {
        "id": "cLiBLNpJ2gBU"
      },
      "source": [
        "# We could derive the values from Start/End Time but since these are small number of records, lets put it as 'Day'\n",
        "accidents_df['Civil_Twilight'].fillna('Day', inplace=True)"
      ],
      "execution_count": 59,
      "outputs": []
    },
    {
      "cell_type": "code",
      "metadata": {
        "id": "IINZk75-2tqN"
      },
      "source": [
        "accidents_df['Sunrise_Sunset'].fillna('Day', inplace=True)"
      ],
      "execution_count": 60,
      "outputs": []
    },
    {
      "cell_type": "code",
      "metadata": {
        "id": "nrJHNRu22zML"
      },
      "source": [
        "accidents_df['Nautical_Twilight'].fillna('Day', inplace=True)"
      ],
      "execution_count": 61,
      "outputs": []
    },
    {
      "cell_type": "code",
      "metadata": {
        "id": "kthv4EJb23HO"
      },
      "source": [
        "accidents_df['Astronomical_Twilight'].fillna('Day', inplace=True)"
      ],
      "execution_count": 62,
      "outputs": []
    },
    {
      "cell_type": "code",
      "metadata": {
        "colab": {
          "base_uri": "https://localhost:8080/"
        },
        "id": "TTcGqo0EwpNj",
        "outputId": "263c1f63-bd45-41db-c3ca-e502a012e384"
      },
      "source": [
        "# We filled all NULLs. Lets check where we stand now\n",
        "accidents_df.isnull().sum()"
      ],
      "execution_count": 63,
      "outputs": [
        {
          "output_type": "execute_result",
          "data": {
            "text/plain": [
              "ID                           0\n",
              "Source                       0\n",
              "TMC                          0\n",
              "Severity                     0\n",
              "Start_Time                   0\n",
              "End_Time                     0\n",
              "Start_Lat                    0\n",
              "Start_Lng                    0\n",
              "Distance(mi)                 0\n",
              "Side                         0\n",
              "Temperature(F)               0\n",
              "Wind_Chill(F)                0\n",
              "Humidity(%)                  0\n",
              "Pressure(in)                 0\n",
              "Visibility(mi)               0\n",
              "Wind_Direction           83496\n",
              "Precipitation(in)            0\n",
              "Weather_Condition            0\n",
              "Amenity                      0\n",
              "Bump                         0\n",
              "Crossing                     0\n",
              "Give_Way                     0\n",
              "Junction                     0\n",
              "No_Exit                      0\n",
              "Railway                      0\n",
              "Roundabout                   0\n",
              "Station                      0\n",
              "Stop                         0\n",
              "Traffic_Calming              0\n",
              "Traffic_Signal               0\n",
              "Turning_Loop                 0\n",
              "Sunrise_Sunset               0\n",
              "Civil_Twilight               0\n",
              "Nautical_Twilight            0\n",
              "Astronomical_Twilight        0\n",
              "dtype: int64"
            ]
          },
          "metadata": {
            "tags": []
          },
          "execution_count": 63
        }
      ]
    },
    {
      "cell_type": "code",
      "metadata": {
        "colab": {
          "base_uri": "https://localhost:8080/"
        },
        "id": "_sCQ_Bfi5o_b",
        "outputId": "810eb097-8a03-4018-af50-f4fd17bc1d7b"
      },
      "source": [
        "accidents_df.info()"
      ],
      "execution_count": 64,
      "outputs": [
        {
          "output_type": "stream",
          "text": [
            "<class 'pandas.core.frame.DataFrame'>\n",
            "RangeIndex: 4229394 entries, 0 to 4229393\n",
            "Data columns (total 35 columns):\n",
            " #   Column                 Dtype  \n",
            "---  ------                 -----  \n",
            " 0   ID                     object \n",
            " 1   Source                 object \n",
            " 2   TMC                    float64\n",
            " 3   Severity               int64  \n",
            " 4   Start_Time             object \n",
            " 5   End_Time               object \n",
            " 6   Start_Lat              float64\n",
            " 7   Start_Lng              float64\n",
            " 8   Distance(mi)           float64\n",
            " 9   Side                   object \n",
            " 10  Temperature(F)         float64\n",
            " 11  Wind_Chill(F)          float64\n",
            " 12  Humidity(%)            float64\n",
            " 13  Pressure(in)           float64\n",
            " 14  Visibility(mi)         float64\n",
            " 15  Wind_Direction         object \n",
            " 16  Precipitation(in)      float64\n",
            " 17  Weather_Condition      object \n",
            " 18  Amenity                bool   \n",
            " 19  Bump                   bool   \n",
            " 20  Crossing               bool   \n",
            " 21  Give_Way               bool   \n",
            " 22  Junction               bool   \n",
            " 23  No_Exit                bool   \n",
            " 24  Railway                bool   \n",
            " 25  Roundabout             bool   \n",
            " 26  Station                bool   \n",
            " 27  Stop                   bool   \n",
            " 28  Traffic_Calming        bool   \n",
            " 29  Traffic_Signal         bool   \n",
            " 30  Turning_Loop           bool   \n",
            " 31  Sunrise_Sunset         object \n",
            " 32  Civil_Twilight         object \n",
            " 33  Nautical_Twilight      object \n",
            " 34  Astronomical_Twilight  object \n",
            "dtypes: bool(13), float64(10), int64(1), object(11)\n",
            "memory usage: 762.3+ MB\n"
          ],
          "name": "stdout"
        }
      ]
    },
    {
      "cell_type": "code",
      "metadata": {
        "id": "eHh-ftM-Wl1t"
      },
      "source": [
        "# Lowercase column names\n",
        "accidents_df.columns = accidents_df.columns.str.lower()"
      ],
      "execution_count": 65,
      "outputs": []
    },
    {
      "cell_type": "code",
      "metadata": {
        "id": "_TtlAW1wWu1M"
      },
      "source": [
        "accidents_df.drop(columns=['id', 'source'], inplace=True)"
      ],
      "execution_count": 66,
      "outputs": []
    },
    {
      "cell_type": "code",
      "metadata": {
        "id": "ONTffrj4WvdT"
      },
      "source": [
        "accidents_df['start_time'] = pd.to_datetime(accidents_df['start_time'])"
      ],
      "execution_count": 67,
      "outputs": []
    },
    {
      "cell_type": "code",
      "metadata": {
        "id": "0Yo_G5G3Wv8S"
      },
      "source": [
        "accidents_df['start_hour'] = accidents_df['start_time'].dt.hour"
      ],
      "execution_count": 68,
      "outputs": []
    },
    {
      "cell_type": "code",
      "metadata": {
        "id": "VkSFesSaXSJ4"
      },
      "source": [
        "accidents_df['month'] = accidents_df['start_time'].dt.month"
      ],
      "execution_count": 69,
      "outputs": []
    },
    {
      "cell_type": "code",
      "metadata": {
        "id": "2XpwJ_HlXZ7q"
      },
      "source": [
        "accidents_df['end_time'] = pd.to_datetime(accidents_df['end_time'])"
      ],
      "execution_count": 70,
      "outputs": []
    },
    {
      "cell_type": "code",
      "metadata": {
        "id": "ahQGg0DIXf02"
      },
      "source": [
        "accidents_df['end_hour'] = accidents_df['end_time'].dt.hour"
      ],
      "execution_count": 71,
      "outputs": []
    },
    {
      "cell_type": "code",
      "metadata": {
        "id": "AFvmSQwwXr-j"
      },
      "source": [
        "def datetime_to_minutes(df):\n",
        "    total_duration = []\n",
        "    \n",
        "    for x in range(len(df)-1):\n",
        "        total_duration.append(((df['end_time'][x] - df['start_time'][x]).total_seconds())/60)\n",
        "        \n",
        "    return total_duration"
      ],
      "execution_count": 72,
      "outputs": []
    },
    {
      "cell_type": "code",
      "metadata": {
        "id": "wxdEm7aIXuRl"
      },
      "source": [
        "total_duration = datetime_to_minutes(accidents_df)"
      ],
      "execution_count": 73,
      "outputs": []
    },
    {
      "cell_type": "code",
      "metadata": {
        "id": "dyoUzm5CXyH2"
      },
      "source": [
        "total_duration.append(((accidents_df['end_time'][4229393] - accidents_df['start_time'][4229393]).total_seconds())/60)"
      ],
      "execution_count": 74,
      "outputs": []
    },
    {
      "cell_type": "code",
      "metadata": {
        "id": "Q_HeeJzsX_hW"
      },
      "source": [
        "accidents_df['total_duration'] = total_duration"
      ],
      "execution_count": 75,
      "outputs": []
    },
    {
      "cell_type": "code",
      "metadata": {
        "id": "ZD8PujIYYILz"
      },
      "source": [
        "def bool_to_int(bool):\n",
        "    if bool == True:\n",
        "        return 1\n",
        "    else:\n",
        "        return 0"
      ],
      "execution_count": 76,
      "outputs": []
    },
    {
      "cell_type": "code",
      "metadata": {
        "id": "nJMcK-huYIwZ"
      },
      "source": [
        "def bool_to_int_columns(df, columns):\n",
        "    for col in columns:\n",
        "        df[col] = df[col].apply(bool_to_int)\n",
        "        \n",
        "    return df"
      ],
      "execution_count": 77,
      "outputs": []
    },
    {
      "cell_type": "code",
      "metadata": {
        "id": "fdT2VU37YJN4"
      },
      "source": [
        "accidents_df = bool_to_int_columns(accidents_df,['amenity','bump','crossing','give_way','junction','no_exit','railway',\n",
        "                          'roundabout','station','stop','traffic_calming','traffic_signal',\n",
        "                          'turning_loop'])"
      ],
      "execution_count": 78,
      "outputs": []
    },
    {
      "cell_type": "code",
      "metadata": {
        "id": "88r3vLJOYJum"
      },
      "source": [
        "def d_n_to_int(string):\n",
        "    if string == 'Day':\n",
        "        return 1\n",
        "    else:\n",
        "        return 0"
      ],
      "execution_count": 79,
      "outputs": []
    },
    {
      "cell_type": "code",
      "metadata": {
        "id": "tiwSL1h1YY4u"
      },
      "source": [
        "def d_n_to_int_columns(df, columns):\n",
        "    for col in columns:\n",
        "        df[col] = df[col].apply(d_n_to_int)\n",
        "        \n",
        "    return df"
      ],
      "execution_count": 80,
      "outputs": []
    },
    {
      "cell_type": "code",
      "metadata": {
        "id": "U5J4xi5NYbjz"
      },
      "source": [
        "accidents_df = d_n_to_int_columns(accidents_df,['sunrise_sunset','civil_twilight',\n",
        "                                'nautical_twilight','astronomical_twilight'])"
      ],
      "execution_count": 81,
      "outputs": []
    },
    {
      "cell_type": "code",
      "metadata": {
        "id": "XJTiPCawZ82Q"
      },
      "source": [
        "accidents_df = pd.get_dummies(accidents_df, columns = ['weather_condition','wind_direction'])"
      ],
      "execution_count": 82,
      "outputs": []
    },
    {
      "cell_type": "code",
      "metadata": {
        "id": "ulOPYUpZYfxx"
      },
      "source": [
        "accidents_df['side'] = accidents_df['side'].map({'R': 1,'L': 0})"
      ],
      "execution_count": 83,
      "outputs": []
    },
    {
      "cell_type": "code",
      "metadata": {
        "id": "M1MaJwuIwuV4"
      },
      "source": [
        "# Great. Save the cleaned up version into csv\n",
        "accidents_df.to_csv('US_Accidents_CleanedUp.csv')"
      ],
      "execution_count": 84,
      "outputs": []
    },
    {
      "cell_type": "code",
      "metadata": {
        "id": "6MzwprDU11Sr"
      },
      "source": [
        "! cp US_Accidents_CleanedUp.csv 'drive/MyDrive/dsi-project5'"
      ],
      "execution_count": 85,
      "outputs": []
    },
    {
      "cell_type": "code",
      "metadata": {
        "id": "iUwuAsUa5L4m"
      },
      "source": [
        "! cp US_Accidents_Dec20.csv 'drive/MyDrive/dsi-project5'"
      ],
      "execution_count": 86,
      "outputs": []
    },
    {
      "cell_type": "code",
      "metadata": {
        "id": "DgfRl1Rk5b02",
        "colab": {
          "base_uri": "https://localhost:8080/",
          "height": 429
        },
        "outputId": "df362c3a-a2f5-4604-e9f5-4bd8fa7a845a"
      },
      "source": [
        "# Test Cell\n",
        "accidents_df.head()"
      ],
      "execution_count": 87,
      "outputs": [
        {
          "output_type": "execute_result",
          "data": {
            "text/html": [
              "<div>\n",
              "<style scoped>\n",
              "    .dataframe tbody tr th:only-of-type {\n",
              "        vertical-align: middle;\n",
              "    }\n",
              "\n",
              "    .dataframe tbody tr th {\n",
              "        vertical-align: top;\n",
              "    }\n",
              "\n",
              "    .dataframe thead th {\n",
              "        text-align: right;\n",
              "    }\n",
              "</style>\n",
              "<table border=\"1\" class=\"dataframe\">\n",
              "  <thead>\n",
              "    <tr style=\"text-align: right;\">\n",
              "      <th></th>\n",
              "      <th>tmc</th>\n",
              "      <th>severity</th>\n",
              "      <th>start_time</th>\n",
              "      <th>end_time</th>\n",
              "      <th>start_lat</th>\n",
              "      <th>start_lng</th>\n",
              "      <th>distance(mi)</th>\n",
              "      <th>side</th>\n",
              "      <th>temperature(f)</th>\n",
              "      <th>wind_chill(f)</th>\n",
              "      <th>humidity(%)</th>\n",
              "      <th>pressure(in)</th>\n",
              "      <th>visibility(mi)</th>\n",
              "      <th>precipitation(in)</th>\n",
              "      <th>amenity</th>\n",
              "      <th>bump</th>\n",
              "      <th>crossing</th>\n",
              "      <th>give_way</th>\n",
              "      <th>junction</th>\n",
              "      <th>no_exit</th>\n",
              "      <th>railway</th>\n",
              "      <th>roundabout</th>\n",
              "      <th>station</th>\n",
              "      <th>stop</th>\n",
              "      <th>traffic_calming</th>\n",
              "      <th>traffic_signal</th>\n",
              "      <th>turning_loop</th>\n",
              "      <th>sunrise_sunset</th>\n",
              "      <th>civil_twilight</th>\n",
              "      <th>nautical_twilight</th>\n",
              "      <th>astronomical_twilight</th>\n",
              "      <th>start_hour</th>\n",
              "      <th>month</th>\n",
              "      <th>end_hour</th>\n",
              "      <th>total_duration</th>\n",
              "      <th>weather_condition_Blowing Dust</th>\n",
              "      <th>weather_condition_Blowing Dust / Windy</th>\n",
              "      <th>weather_condition_Blowing Sand</th>\n",
              "      <th>weather_condition_Blowing Snow</th>\n",
              "      <th>weather_condition_Blowing Snow / Windy</th>\n",
              "      <th>...</th>\n",
              "      <th>weather_condition_Thunder</th>\n",
              "      <th>weather_condition_Thunder / Windy</th>\n",
              "      <th>weather_condition_Thunder / Wintry Mix</th>\n",
              "      <th>weather_condition_Thunder / Wintry Mix / Windy</th>\n",
              "      <th>weather_condition_Thunder and Hail</th>\n",
              "      <th>weather_condition_Thunder and Hail / Windy</th>\n",
              "      <th>weather_condition_Thunder in the Vicinity</th>\n",
              "      <th>weather_condition_Thunderstorm</th>\n",
              "      <th>weather_condition_Thunderstorms and Rain</th>\n",
              "      <th>weather_condition_Thunderstorms and Snow</th>\n",
              "      <th>weather_condition_Tornado</th>\n",
              "      <th>weather_condition_Volcanic Ash</th>\n",
              "      <th>weather_condition_Widespread Dust</th>\n",
              "      <th>weather_condition_Widespread Dust / Windy</th>\n",
              "      <th>weather_condition_Wintry Mix</th>\n",
              "      <th>weather_condition_Wintry Mix / Windy</th>\n",
              "      <th>wind_direction_CALM</th>\n",
              "      <th>wind_direction_Calm</th>\n",
              "      <th>wind_direction_E</th>\n",
              "      <th>wind_direction_ENE</th>\n",
              "      <th>wind_direction_ESE</th>\n",
              "      <th>wind_direction_East</th>\n",
              "      <th>wind_direction_N</th>\n",
              "      <th>wind_direction_NE</th>\n",
              "      <th>wind_direction_NNE</th>\n",
              "      <th>wind_direction_NNW</th>\n",
              "      <th>wind_direction_NW</th>\n",
              "      <th>wind_direction_North</th>\n",
              "      <th>wind_direction_S</th>\n",
              "      <th>wind_direction_SE</th>\n",
              "      <th>wind_direction_SSE</th>\n",
              "      <th>wind_direction_SSW</th>\n",
              "      <th>wind_direction_SW</th>\n",
              "      <th>wind_direction_South</th>\n",
              "      <th>wind_direction_VAR</th>\n",
              "      <th>wind_direction_Variable</th>\n",
              "      <th>wind_direction_W</th>\n",
              "      <th>wind_direction_WNW</th>\n",
              "      <th>wind_direction_WSW</th>\n",
              "      <th>wind_direction_West</th>\n",
              "    </tr>\n",
              "  </thead>\n",
              "  <tbody>\n",
              "    <tr>\n",
              "      <th>0</th>\n",
              "      <td>201.0</td>\n",
              "      <td>3</td>\n",
              "      <td>2016-02-08 05:46:00</td>\n",
              "      <td>2016-02-08 11:00:00</td>\n",
              "      <td>39.865147</td>\n",
              "      <td>-84.058723</td>\n",
              "      <td>0.01</td>\n",
              "      <td>1.0</td>\n",
              "      <td>36.9</td>\n",
              "      <td>36.9</td>\n",
              "      <td>91.0</td>\n",
              "      <td>29.68</td>\n",
              "      <td>10.0</td>\n",
              "      <td>0.02</td>\n",
              "      <td>0</td>\n",
              "      <td>0</td>\n",
              "      <td>0</td>\n",
              "      <td>0</td>\n",
              "      <td>0</td>\n",
              "      <td>0</td>\n",
              "      <td>0</td>\n",
              "      <td>0</td>\n",
              "      <td>0</td>\n",
              "      <td>0</td>\n",
              "      <td>0</td>\n",
              "      <td>0</td>\n",
              "      <td>0</td>\n",
              "      <td>0</td>\n",
              "      <td>0</td>\n",
              "      <td>0</td>\n",
              "      <td>0</td>\n",
              "      <td>5</td>\n",
              "      <td>2</td>\n",
              "      <td>11</td>\n",
              "      <td>314.0</td>\n",
              "      <td>0</td>\n",
              "      <td>0</td>\n",
              "      <td>0</td>\n",
              "      <td>0</td>\n",
              "      <td>0</td>\n",
              "      <td>...</td>\n",
              "      <td>0</td>\n",
              "      <td>0</td>\n",
              "      <td>0</td>\n",
              "      <td>0</td>\n",
              "      <td>0</td>\n",
              "      <td>0</td>\n",
              "      <td>0</td>\n",
              "      <td>0</td>\n",
              "      <td>0</td>\n",
              "      <td>0</td>\n",
              "      <td>0</td>\n",
              "      <td>0</td>\n",
              "      <td>0</td>\n",
              "      <td>0</td>\n",
              "      <td>0</td>\n",
              "      <td>0</td>\n",
              "      <td>0</td>\n",
              "      <td>1</td>\n",
              "      <td>0</td>\n",
              "      <td>0</td>\n",
              "      <td>0</td>\n",
              "      <td>0</td>\n",
              "      <td>0</td>\n",
              "      <td>0</td>\n",
              "      <td>0</td>\n",
              "      <td>0</td>\n",
              "      <td>0</td>\n",
              "      <td>0</td>\n",
              "      <td>0</td>\n",
              "      <td>0</td>\n",
              "      <td>0</td>\n",
              "      <td>0</td>\n",
              "      <td>0</td>\n",
              "      <td>0</td>\n",
              "      <td>0</td>\n",
              "      <td>0</td>\n",
              "      <td>0</td>\n",
              "      <td>0</td>\n",
              "      <td>0</td>\n",
              "      <td>0</td>\n",
              "    </tr>\n",
              "    <tr>\n",
              "      <th>1</th>\n",
              "      <td>201.0</td>\n",
              "      <td>2</td>\n",
              "      <td>2016-02-08 06:07:59</td>\n",
              "      <td>2016-02-08 06:37:59</td>\n",
              "      <td>39.928059</td>\n",
              "      <td>-82.831184</td>\n",
              "      <td>0.01</td>\n",
              "      <td>0.0</td>\n",
              "      <td>37.9</td>\n",
              "      <td>37.9</td>\n",
              "      <td>100.0</td>\n",
              "      <td>29.65</td>\n",
              "      <td>10.0</td>\n",
              "      <td>0.00</td>\n",
              "      <td>0</td>\n",
              "      <td>0</td>\n",
              "      <td>0</td>\n",
              "      <td>0</td>\n",
              "      <td>0</td>\n",
              "      <td>0</td>\n",
              "      <td>0</td>\n",
              "      <td>0</td>\n",
              "      <td>0</td>\n",
              "      <td>0</td>\n",
              "      <td>0</td>\n",
              "      <td>0</td>\n",
              "      <td>0</td>\n",
              "      <td>0</td>\n",
              "      <td>0</td>\n",
              "      <td>0</td>\n",
              "      <td>1</td>\n",
              "      <td>6</td>\n",
              "      <td>2</td>\n",
              "      <td>6</td>\n",
              "      <td>30.0</td>\n",
              "      <td>0</td>\n",
              "      <td>0</td>\n",
              "      <td>0</td>\n",
              "      <td>0</td>\n",
              "      <td>0</td>\n",
              "      <td>...</td>\n",
              "      <td>0</td>\n",
              "      <td>0</td>\n",
              "      <td>0</td>\n",
              "      <td>0</td>\n",
              "      <td>0</td>\n",
              "      <td>0</td>\n",
              "      <td>0</td>\n",
              "      <td>0</td>\n",
              "      <td>0</td>\n",
              "      <td>0</td>\n",
              "      <td>0</td>\n",
              "      <td>0</td>\n",
              "      <td>0</td>\n",
              "      <td>0</td>\n",
              "      <td>0</td>\n",
              "      <td>0</td>\n",
              "      <td>0</td>\n",
              "      <td>1</td>\n",
              "      <td>0</td>\n",
              "      <td>0</td>\n",
              "      <td>0</td>\n",
              "      <td>0</td>\n",
              "      <td>0</td>\n",
              "      <td>0</td>\n",
              "      <td>0</td>\n",
              "      <td>0</td>\n",
              "      <td>0</td>\n",
              "      <td>0</td>\n",
              "      <td>0</td>\n",
              "      <td>0</td>\n",
              "      <td>0</td>\n",
              "      <td>0</td>\n",
              "      <td>0</td>\n",
              "      <td>0</td>\n",
              "      <td>0</td>\n",
              "      <td>0</td>\n",
              "      <td>0</td>\n",
              "      <td>0</td>\n",
              "      <td>0</td>\n",
              "      <td>0</td>\n",
              "    </tr>\n",
              "    <tr>\n",
              "      <th>2</th>\n",
              "      <td>201.0</td>\n",
              "      <td>2</td>\n",
              "      <td>2016-02-08 06:49:27</td>\n",
              "      <td>2016-02-08 07:19:27</td>\n",
              "      <td>39.063148</td>\n",
              "      <td>-84.032608</td>\n",
              "      <td>0.01</td>\n",
              "      <td>1.0</td>\n",
              "      <td>36.0</td>\n",
              "      <td>33.3</td>\n",
              "      <td>100.0</td>\n",
              "      <td>29.67</td>\n",
              "      <td>10.0</td>\n",
              "      <td>0.00</td>\n",
              "      <td>0</td>\n",
              "      <td>0</td>\n",
              "      <td>0</td>\n",
              "      <td>0</td>\n",
              "      <td>0</td>\n",
              "      <td>0</td>\n",
              "      <td>0</td>\n",
              "      <td>0</td>\n",
              "      <td>0</td>\n",
              "      <td>0</td>\n",
              "      <td>0</td>\n",
              "      <td>1</td>\n",
              "      <td>0</td>\n",
              "      <td>0</td>\n",
              "      <td>0</td>\n",
              "      <td>1</td>\n",
              "      <td>1</td>\n",
              "      <td>6</td>\n",
              "      <td>2</td>\n",
              "      <td>7</td>\n",
              "      <td>30.0</td>\n",
              "      <td>0</td>\n",
              "      <td>0</td>\n",
              "      <td>0</td>\n",
              "      <td>0</td>\n",
              "      <td>0</td>\n",
              "      <td>...</td>\n",
              "      <td>0</td>\n",
              "      <td>0</td>\n",
              "      <td>0</td>\n",
              "      <td>0</td>\n",
              "      <td>0</td>\n",
              "      <td>0</td>\n",
              "      <td>0</td>\n",
              "      <td>0</td>\n",
              "      <td>0</td>\n",
              "      <td>0</td>\n",
              "      <td>0</td>\n",
              "      <td>0</td>\n",
              "      <td>0</td>\n",
              "      <td>0</td>\n",
              "      <td>0</td>\n",
              "      <td>0</td>\n",
              "      <td>0</td>\n",
              "      <td>0</td>\n",
              "      <td>0</td>\n",
              "      <td>0</td>\n",
              "      <td>0</td>\n",
              "      <td>0</td>\n",
              "      <td>0</td>\n",
              "      <td>0</td>\n",
              "      <td>0</td>\n",
              "      <td>0</td>\n",
              "      <td>0</td>\n",
              "      <td>0</td>\n",
              "      <td>0</td>\n",
              "      <td>0</td>\n",
              "      <td>0</td>\n",
              "      <td>0</td>\n",
              "      <td>1</td>\n",
              "      <td>0</td>\n",
              "      <td>0</td>\n",
              "      <td>0</td>\n",
              "      <td>0</td>\n",
              "      <td>0</td>\n",
              "      <td>0</td>\n",
              "      <td>0</td>\n",
              "    </tr>\n",
              "    <tr>\n",
              "      <th>3</th>\n",
              "      <td>201.0</td>\n",
              "      <td>3</td>\n",
              "      <td>2016-02-08 07:23:34</td>\n",
              "      <td>2016-02-08 07:53:34</td>\n",
              "      <td>39.747753</td>\n",
              "      <td>-84.205582</td>\n",
              "      <td>0.01</td>\n",
              "      <td>1.0</td>\n",
              "      <td>35.1</td>\n",
              "      <td>31.0</td>\n",
              "      <td>96.0</td>\n",
              "      <td>29.64</td>\n",
              "      <td>9.0</td>\n",
              "      <td>0.00</td>\n",
              "      <td>0</td>\n",
              "      <td>0</td>\n",
              "      <td>0</td>\n",
              "      <td>0</td>\n",
              "      <td>0</td>\n",
              "      <td>0</td>\n",
              "      <td>0</td>\n",
              "      <td>0</td>\n",
              "      <td>0</td>\n",
              "      <td>0</td>\n",
              "      <td>0</td>\n",
              "      <td>0</td>\n",
              "      <td>0</td>\n",
              "      <td>0</td>\n",
              "      <td>1</td>\n",
              "      <td>1</td>\n",
              "      <td>1</td>\n",
              "      <td>7</td>\n",
              "      <td>2</td>\n",
              "      <td>7</td>\n",
              "      <td>30.0</td>\n",
              "      <td>0</td>\n",
              "      <td>0</td>\n",
              "      <td>0</td>\n",
              "      <td>0</td>\n",
              "      <td>0</td>\n",
              "      <td>...</td>\n",
              "      <td>0</td>\n",
              "      <td>0</td>\n",
              "      <td>0</td>\n",
              "      <td>0</td>\n",
              "      <td>0</td>\n",
              "      <td>0</td>\n",
              "      <td>0</td>\n",
              "      <td>0</td>\n",
              "      <td>0</td>\n",
              "      <td>0</td>\n",
              "      <td>0</td>\n",
              "      <td>0</td>\n",
              "      <td>0</td>\n",
              "      <td>0</td>\n",
              "      <td>0</td>\n",
              "      <td>0</td>\n",
              "      <td>0</td>\n",
              "      <td>0</td>\n",
              "      <td>0</td>\n",
              "      <td>0</td>\n",
              "      <td>0</td>\n",
              "      <td>0</td>\n",
              "      <td>0</td>\n",
              "      <td>0</td>\n",
              "      <td>0</td>\n",
              "      <td>0</td>\n",
              "      <td>0</td>\n",
              "      <td>0</td>\n",
              "      <td>0</td>\n",
              "      <td>0</td>\n",
              "      <td>0</td>\n",
              "      <td>0</td>\n",
              "      <td>1</td>\n",
              "      <td>0</td>\n",
              "      <td>0</td>\n",
              "      <td>0</td>\n",
              "      <td>0</td>\n",
              "      <td>0</td>\n",
              "      <td>0</td>\n",
              "      <td>0</td>\n",
              "    </tr>\n",
              "    <tr>\n",
              "      <th>4</th>\n",
              "      <td>201.0</td>\n",
              "      <td>2</td>\n",
              "      <td>2016-02-08 07:39:07</td>\n",
              "      <td>2016-02-08 08:09:07</td>\n",
              "      <td>39.627781</td>\n",
              "      <td>-84.188354</td>\n",
              "      <td>0.01</td>\n",
              "      <td>1.0</td>\n",
              "      <td>36.0</td>\n",
              "      <td>33.3</td>\n",
              "      <td>89.0</td>\n",
              "      <td>29.65</td>\n",
              "      <td>6.0</td>\n",
              "      <td>0.00</td>\n",
              "      <td>0</td>\n",
              "      <td>0</td>\n",
              "      <td>0</td>\n",
              "      <td>0</td>\n",
              "      <td>0</td>\n",
              "      <td>0</td>\n",
              "      <td>0</td>\n",
              "      <td>0</td>\n",
              "      <td>0</td>\n",
              "      <td>0</td>\n",
              "      <td>0</td>\n",
              "      <td>1</td>\n",
              "      <td>0</td>\n",
              "      <td>1</td>\n",
              "      <td>1</td>\n",
              "      <td>1</td>\n",
              "      <td>1</td>\n",
              "      <td>7</td>\n",
              "      <td>2</td>\n",
              "      <td>8</td>\n",
              "      <td>30.0</td>\n",
              "      <td>0</td>\n",
              "      <td>0</td>\n",
              "      <td>0</td>\n",
              "      <td>0</td>\n",
              "      <td>0</td>\n",
              "      <td>...</td>\n",
              "      <td>0</td>\n",
              "      <td>0</td>\n",
              "      <td>0</td>\n",
              "      <td>0</td>\n",
              "      <td>0</td>\n",
              "      <td>0</td>\n",
              "      <td>0</td>\n",
              "      <td>0</td>\n",
              "      <td>0</td>\n",
              "      <td>0</td>\n",
              "      <td>0</td>\n",
              "      <td>0</td>\n",
              "      <td>0</td>\n",
              "      <td>0</td>\n",
              "      <td>0</td>\n",
              "      <td>0</td>\n",
              "      <td>0</td>\n",
              "      <td>0</td>\n",
              "      <td>0</td>\n",
              "      <td>0</td>\n",
              "      <td>0</td>\n",
              "      <td>0</td>\n",
              "      <td>0</td>\n",
              "      <td>0</td>\n",
              "      <td>0</td>\n",
              "      <td>0</td>\n",
              "      <td>0</td>\n",
              "      <td>0</td>\n",
              "      <td>0</td>\n",
              "      <td>0</td>\n",
              "      <td>0</td>\n",
              "      <td>0</td>\n",
              "      <td>1</td>\n",
              "      <td>0</td>\n",
              "      <td>0</td>\n",
              "      <td>0</td>\n",
              "      <td>0</td>\n",
              "      <td>0</td>\n",
              "      <td>0</td>\n",
              "      <td>0</td>\n",
              "    </tr>\n",
              "  </tbody>\n",
              "</table>\n",
              "<p>5 rows × 190 columns</p>\n",
              "</div>"
            ],
            "text/plain": [
              "     tmc  severity  ... wind_direction_WSW wind_direction_West\n",
              "0  201.0         3  ...                  0                   0\n",
              "1  201.0         2  ...                  0                   0\n",
              "2  201.0         2  ...                  0                   0\n",
              "3  201.0         3  ...                  0                   0\n",
              "4  201.0         2  ...                  0                   0\n",
              "\n",
              "[5 rows x 190 columns]"
            ]
          },
          "metadata": {
            "tags": []
          },
          "execution_count": 87
        }
      ]
    },
    {
      "cell_type": "code",
      "metadata": {
        "id": "wq2Ib9r9pPaO"
      },
      "source": [
        ""
      ],
      "execution_count": null,
      "outputs": []
    }
  ]
}